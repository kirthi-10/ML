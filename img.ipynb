{
  "cells": [
    {
      "cell_type": "code",
      "execution_count": null,
      "metadata": {
        "colab": {
          "base_uri": "https://localhost:8080/"
        },
        "id": "iJVhCAf2bher",
        "outputId": "2029e05d-6c87-4ccf-88fd-ac0309dccc1e"
      },
      "outputs": [
        {
          "output_type": "stream",
          "name": "stdout",
          "text": [
            "Requirement already satisfied: kaggle in /usr/local/lib/python3.10/dist-packages (1.6.14)\n",
            "Requirement already satisfied: six>=1.10 in /usr/local/lib/python3.10/dist-packages (from kaggle) (1.16.0)\n",
            "Requirement already satisfied: certifi>=2023.7.22 in /usr/local/lib/python3.10/dist-packages (from kaggle) (2024.7.4)\n",
            "Requirement already satisfied: python-dateutil in /usr/local/lib/python3.10/dist-packages (from kaggle) (2.8.2)\n",
            "Requirement already satisfied: requests in /usr/local/lib/python3.10/dist-packages (from kaggle) (2.31.0)\n",
            "Requirement already satisfied: tqdm in /usr/local/lib/python3.10/dist-packages (from kaggle) (4.66.4)\n",
            "Requirement already satisfied: python-slugify in /usr/local/lib/python3.10/dist-packages (from kaggle) (8.0.4)\n",
            "Requirement already satisfied: urllib3 in /usr/local/lib/python3.10/dist-packages (from kaggle) (2.0.7)\n",
            "Requirement already satisfied: bleach in /usr/local/lib/python3.10/dist-packages (from kaggle) (6.1.0)\n",
            "Requirement already satisfied: webencodings in /usr/local/lib/python3.10/dist-packages (from bleach->kaggle) (0.5.1)\n",
            "Requirement already satisfied: text-unidecode>=1.3 in /usr/local/lib/python3.10/dist-packages (from python-slugify->kaggle) (1.3)\n",
            "Requirement already satisfied: charset-normalizer<4,>=2 in /usr/local/lib/python3.10/dist-packages (from requests->kaggle) (3.3.2)\n",
            "Requirement already satisfied: idna<4,>=2.5 in /usr/local/lib/python3.10/dist-packages (from requests->kaggle) (3.7)\n"
          ]
        }
      ],
      "source": [
        "!pip install kaggle"
      ]
    },
    {
      "cell_type": "code",
      "execution_count": null,
      "metadata": {
        "id": "Vbus1u9hbiQF"
      },
      "outputs": [],
      "source": [
        "!mkdir ~/.kaggle"
      ]
    },
    {
      "cell_type": "code",
      "execution_count": null,
      "metadata": {
        "colab": {
          "base_uri": "https://localhost:8080/"
        },
        "id": "_w1B0a86blWk",
        "outputId": "328933a6-250a-4152-e90f-22ce541d0e6a"
      },
      "outputs": [
        {
          "output_type": "stream",
          "name": "stdout",
          "text": [
            "cp: cannot stat 'kaggle.json': No such file or directory\n"
          ]
        }
      ],
      "source": [
        "!cp kaggle.json ~/.kaggle"
      ]
    },
    {
      "cell_type": "code",
      "execution_count": null,
      "metadata": {
        "colab": {
          "base_uri": "https://localhost:8080/"
        },
        "id": "09Vo7i8ibpVx",
        "outputId": "84367b22-64bf-4ba9-fd2c-ab3523967447"
      },
      "outputs": [
        {
          "output_type": "stream",
          "name": "stdout",
          "text": [
            "Warning: Looks like you're using an outdated API Version, please consider updating (server 1.6.15 / client 1.6.14)\n",
            "Dataset URL: https://www.kaggle.com/datasets/elinachen717/municipal-solid-waste-dataset\n",
            "License(s): CC0-1.0\n",
            "Downloading municipal-solid-waste-dataset.zip to /content\n",
            " 62% 3.00M/4.81M [00:00<00:00, 5.33MB/s]\n",
            "100% 4.81M/4.81M [00:00<00:00, 6.64MB/s]\n"
          ]
        }
      ],
      "source": [
        "!kaggle datasets download -d elinachen717/municipal-solid-waste-dataset"
      ]
    },
    {
      "cell_type": "code",
      "execution_count": null,
      "metadata": {
        "colab": {
          "base_uri": "https://localhost:8080/"
        },
        "id": "XoP0knu0btXl",
        "outputId": "511d3de9-3805-4020-8564-c38008f8f1be"
      },
      "outputs": [
        {
          "output_type": "stream",
          "name": "stdout",
          "text": [
            "Archive:  /content/municipal-solid-waste-dataset.zip\n",
            "  inflating: Dataset/Biodegradable Images/TEST_BIODEG_HFL_0.jpeg  \n",
            "  inflating: Dataset/Biodegradable Images/TEST_BIODEG_HFL_1.jpeg  \n",
            "  inflating: Dataset/Biodegradable Images/TEST_BIODEG_HFL_10.jpeg  \n",
            "  inflating: Dataset/Biodegradable Images/TEST_BIODEG_HFL_100.jpeg  \n",
            "  inflating: Dataset/Biodegradable Images/TEST_BIODEG_HFL_1000.jpeg  \n",
            "  inflating: Dataset/Biodegradable Images/TEST_BIODEG_HFL_1004.jpeg  \n",
            "  inflating: Dataset/Biodegradable Images/TEST_BIODEG_HFL_1005.jpeg  \n",
            "  inflating: Dataset/Biodegradable Images/TEST_BIODEG_HFL_1007.jpeg  \n",
            "  inflating: Dataset/Biodegradable Images/TEST_BIODEG_HFL_1008.jpeg  \n",
            "  inflating: Dataset/Biodegradable Images/TEST_BIODEG_HFL_1009.jpeg  \n",
            "  inflating: Dataset/Biodegradable Images/TRAIN.1_BIODEG_ORI_10035.jpg  \n",
            "  inflating: Dataset/Biodegradable Images/TRAIN.2_BIODEG_ORI_10025.jpg  \n",
            "  inflating: Dataset/Biodegradable Images/TRAIN.2_BIODEG_ORI_10043.jpg  \n",
            "  inflating: Dataset/Biodegradable Images/TRAIN.2_BIODEG_ORI_10047.jpg  \n",
            "  inflating: Dataset/Biodegradable Images/TRAIN.2_BIODEG_ORI_10048.jpg  \n",
            "  inflating: Dataset/Biodegradable Images/TRAIN.2_BIODEG_ORI_10049.jpg  \n",
            "  inflating: Dataset/Biodegradable Images/TRAIN.2_BIODEG_ORI_101.jpg  \n",
            "  inflating: Dataset/Biodegradable Images/TRAIN.2_BIODEG_ORI_1010.jpg  \n",
            "  inflating: Dataset/Biodegradable Images/TRAIN.2_BIODEG_ORI_10124.jpg  \n",
            "  inflating: Dataset/Biodegradable Images/TRAIN.2_BIODEG_ORI_10125.jpg  \n",
            "  inflating: Dataset/Biodegradable Images/TRAIN.2_BIODEG_ORI_1013.jpg  \n",
            "  inflating: Dataset/Biodegradable Images/TRAIN.2_BIODEG_ORI_10130.jpg  \n",
            "  inflating: Dataset/Biodegradable Images/TRAIN.2_BIODEG_ORI_10131.jpg  \n",
            "  inflating: Dataset/Biodegradable Images/TRAIN.2_BIODEG_ORI_10133.jpg  \n",
            "  inflating: Dataset/Biodegradable Images/TRAIN.2_BIODEG_ORI_10136.jpg  \n",
            "  inflating: Dataset/Biodegradable Images/TRAIN.2_BIODEG_ORI_10137.jpg  \n",
            "  inflating: Dataset/Biodegradable Images/TRAIN.2_BIODEG_ORI_10139.jpg  \n",
            "  inflating: Dataset/Biodegradable Images/TRAIN.2_BIODEG_ORI_1014.jpg  \n",
            "  inflating: Dataset/Biodegradable Images/TRAIN.2_BIODEG_ORI_10143.jpg  \n",
            "  inflating: Dataset/Biodegradable Images/TRAIN.2_BIODEG_ORI_10149.jpg  \n",
            "  inflating: Dataset/Biodegradable Images/TRAIN.2_BIODEG_ORI_1015.jpg  \n",
            "  inflating: Dataset/Biodegradable Images/TRAIN.2_BIODEG_ORI_10151.jpg  \n",
            "  inflating: Dataset/Biodegradable Images/TRAIN.2_BIODEG_ORI_10154.jpg  \n",
            "  inflating: Dataset/Biodegradable Images/TRAIN.2_BIODEG_ORI_10155.jpg  \n",
            "  inflating: Dataset/Biodegradable Images/TRAIN.2_BIODEG_ORI_10183.jpg  \n",
            "  inflating: Dataset/Biodegradable Images/TRAIN.2_BIODEG_ORI_10206.jpg  \n",
            "  inflating: Dataset/Biodegradable Images/TRAIN.2_BIODEG_ORI_1027.jpg  \n",
            "  inflating: Dataset/Biodegradable Images/TRAIN.2_BIODEG_ORI_10270.jpg  \n",
            "  inflating: Dataset/Biodegradable Images/TRAIN.2_BIODEG_ORI_10287.jpg  \n",
            "  inflating: Dataset/Biodegradable Images/TRAIN.2_BIODEG_ORI_1036.jpg  \n",
            "  inflating: Dataset/Biodegradable Images/TRAIN.2_BIODEG_ORI_1037.jpg  \n",
            "  inflating: Dataset/Biodegradable Images/TRAIN.2_BIODEG_ORI_10384.jpg  \n",
            "  inflating: Dataset/Biodegradable Images/TRAIN.2_BIODEG_ORI_10387.jpg  \n",
            "  inflating: Dataset/Biodegradable Images/TRAIN.2_BIODEG_ORI_10388.jpg  \n",
            "  inflating: Dataset/Biodegradable Images/TRAIN.2_BIODEG_ORI_10389.jpg  \n",
            "  inflating: Dataset/Biodegradable Images/TRAIN.2_BIODEG_ORI_10394.jpg  \n",
            "  inflating: Dataset/Biodegradable Images/TRAIN.2_BIODEG_ORI_104.jpg  \n",
            "  inflating: Dataset/Biodegradable Images/TRAIN.2_BIODEG_ORI_10400.jpg  \n",
            "  inflating: Dataset/Biodegradable Images/TRAIN.2_BIODEG_ORI_10478.jpg  \n",
            "  inflating: Dataset/Biodegradable Images/TRAIN.2_BIODEG_ORI_10657.jpg  \n",
            "  inflating: Dataset/Biodegradable Images/TRAIN.2_BIODEG_ORI_10658.jpg  \n",
            "  inflating: Dataset/Biodegradable Images/TRAIN.2_BIODEG_ORI_10660.jpg  \n",
            "  inflating: Dataset/Biodegradable Images/TRAIN.2_BIODEG_ORI_10661.jpg  \n",
            "  inflating: Dataset/Biodegradable Images/TRAIN.2_BIODEG_ORI_10662.jpg  \n",
            "  inflating: Dataset/Biodegradable Images/TRAIN.2_BIODEG_ORI_10667.jpg  \n",
            "  inflating: Dataset/Biodegradable Images/TRAIN.2_BIODEG_ORI_10703.jpg  \n",
            "  inflating: Dataset/Biodegradable Images/TRAIN.2_BIODEG_ORI_10707.jpg  \n",
            "  inflating: Dataset/Biodegradable Images/TRAIN.2_BIODEG_ORI_10765.jpg  \n",
            "  inflating: Dataset/Biodegradable Images/TRAIN.2_BIODEG_ORI_10768.jpg  \n",
            "  inflating: Dataset/Biodegradable Images/TRAIN.2_BIODEG_ORI_10772.jpg  \n",
            "  inflating: Dataset/Biodegradable Images/TRAIN.2_BIODEG_ORI_10774.jpg  \n",
            "  inflating: Dataset/Biodegradable Images/TRAIN.2_BIODEG_ORI_10777.jpg  \n",
            "  inflating: Dataset/Biodegradable Images/TRAIN.2_BIODEG_ORI_10778.jpg  \n",
            "  inflating: Dataset/Biodegradable Images/TRAIN.2_BIODEG_ORI_10788.jpg  \n",
            "  inflating: Dataset/Biodegradable Images/TRAIN.2_BIODEG_ORI_1083.jpg  \n",
            "  inflating: Dataset/Biodegradable Images/TRAIN.2_BIODEG_ORI_10941.jpg  \n",
            "  inflating: Dataset/Biodegradable Images/TRAIN.2_BIODEG_ORI_10942.jpg  \n",
            "  inflating: Dataset/Biodegradable Images/TRAIN.2_BIODEG_ORI_10943.jpg  \n",
            "  inflating: Dataset/Biodegradable Images/TRAIN.2_BIODEG_ORI_10944.jpg  \n",
            "  inflating: Dataset/Biodegradable Images/TRAIN.2_BIODEG_ORI_10945.jpg  \n",
            "  inflating: Dataset/Biodegradable Images/TRAIN.2_BIODEG_ORI_10946.jpg  \n",
            "  inflating: Dataset/Biodegradable Images/TRAIN.2_BIODEG_ORI_11042.jpg  \n",
            "  inflating: Dataset/Biodegradable Images/TRAIN.2_BIODEG_ORI_1110.jpg  \n",
            "  inflating: Dataset/Biodegradable Images/TRAIN.2_BIODEG_ORI_11167.jpg  \n",
            "  inflating: Dataset/Biodegradable Images/TRAIN.2_BIODEG_ORI_11171.jpg  \n",
            "  inflating: Dataset/Biodegradable Images/TRAIN.2_BIODEG_ORI_11172.jpg  \n",
            "  inflating: Dataset/Biodegradable Images/TRAIN.2_BIODEG_ORI_11175.jpg  \n",
            "  inflating: Dataset/Biodegradable Images/TRAIN.2_BIODEG_ORI_11176.jpg  \n",
            "  inflating: Dataset/Biodegradable Images/TRAIN.2_BIODEG_ORI_11180.jpg  \n",
            "  inflating: Dataset/Biodegradable Images/TRAIN.2_BIODEG_ORI_11197.jpg  \n",
            "  inflating: Dataset/Biodegradable Images/TRAIN.2_BIODEG_ORI_11219.jpg  \n",
            "  inflating: Dataset/Biodegradable Images/TRAIN.2_BIODEG_ORI_11224.jpg  \n",
            "  inflating: Dataset/Biodegradable Images/TRAIN.2_BIODEG_ORI_11242.jpg  \n",
            "  inflating: Dataset/Biodegradable Images/TRAIN.2_BIODEG_ORI_11252.jpg  \n",
            "  inflating: Dataset/Biodegradable Images/TRAIN.2_BIODEG_ORI_11260.jpg  \n",
            "  inflating: Dataset/Biodegradable Images/TRAIN.2_BIODEG_ORI_11271.jpg  \n",
            "  inflating: Dataset/Biodegradable Images/TRAIN.2_BIODEG_ORI_11275.jpg  \n",
            "  inflating: Dataset/Biodegradable Images/TRAIN.2_BIODEG_ORI_11276.jpg  \n",
            "  inflating: Dataset/Biodegradable Images/TRAIN.2_BIODEG_ORI_11278.jpg  \n",
            "  inflating: Dataset/Biodegradable Images/TRAIN.2_BIODEG_ORI_11280.jpg  \n",
            "  inflating: Dataset/Biodegradable Images/TRAIN.2_BIODEG_ORI_11281.jpg  \n",
            "  inflating: Dataset/Biodegradable Images/TRAIN.2_BIODEG_ORI_11282.jpg  \n",
            "  inflating: Dataset/Biodegradable Images/TRAIN.2_BIODEG_ORI_11291.jpg  \n",
            "  inflating: Dataset/Biodegradable Images/TRAIN.2_BIODEG_ORI_11292.jpg  \n",
            "  inflating: Dataset/Biodegradable Images/TRAIN.2_BIODEG_ORI_11293.jpg  \n",
            "  inflating: Dataset/Biodegradable Images/TRAIN.2_BIODEG_ORI_11295.jpg  \n",
            "  inflating: Dataset/Biodegradable Images/TRAIN.2_BIODEG_ORI_11297.jpg  \n",
            "  inflating: Dataset/Biodegradable Images/TRAIN.2_BIODEG_ORI_113.jpg  \n",
            "  inflating: Dataset/Biodegradable Images/TRAIN.2_BIODEG_ORI_1130.jpg  \n",
            "  inflating: Dataset/Biodegradable Images/TRAIN.2_BIODEG_ORI_11300.jpg  \n",
            "  inflating: Dataset/Biodegradable Images/TRAIN.2_BIODEG_ORI_11301.jpg  \n",
            "  inflating: Dataset/Biodegradable Images/TRAIN.2_BIODEG_ORI_11303.jpg  \n",
            "  inflating: Dataset/Biodegradable Images/TRAIN.2_BIODEG_ORI_1131.jpg  \n",
            "  inflating: Dataset/Biodegradable Images/TRAIN.2_BIODEG_ORI_11312.jpg  \n",
            "  inflating: Dataset/Biodegradable Images/TRAIN.2_BIODEG_ORI_11313.jpg  \n",
            "  inflating: Dataset/Biodegradable Images/TRAIN.2_BIODEG_ORI_11315.jpg  \n",
            "  inflating: Dataset/Biodegradable Images/TRAIN.2_BIODEG_ORI_1132.jpg  \n",
            "  inflating: Dataset/Biodegradable Images/TRAIN.2_BIODEG_ORI_11324.jpg  \n",
            "  inflating: Dataset/Biodegradable Images/TRAIN.2_BIODEG_ORI_1133.jpg  \n",
            "  inflating: Dataset/Biodegradable Images/TRAIN.2_BIODEG_ORI_11348.jpg  \n",
            "  inflating: Dataset/Biodegradable Images/TRAIN.2_BIODEG_ORI_11358.jpg  \n",
            "  inflating: Dataset/Biodegradable Images/TRAIN.2_BIODEG_ORI_11370.jpg  \n",
            "  inflating: Dataset/Biodegradable Images/TRAIN.2_BIODEG_ORI_11378.jpg  \n",
            "  inflating: Dataset/Biodegradable Images/TRAIN.2_BIODEG_ORI_11405.jpg  \n",
            "  inflating: Dataset/Biodegradable Images/TRAIN.2_BIODEG_ORI_11406.jpg  \n",
            "  inflating: Dataset/Biodegradable Images/TRAIN.2_BIODEG_ORI_11418.jpg  \n",
            "  inflating: Dataset/Biodegradable Images/TRAIN.2_BIODEG_ORI_11499.jpg  \n",
            "  inflating: Dataset/Biodegradable Images/TRAIN.2_BIODEG_ORI_11524.jpg  \n",
            "  inflating: Dataset/Biodegradable Images/TRAIN.2_BIODEG_ORI_1159.jpg  \n",
            "  inflating: Dataset/Biodegradable Images/TRAIN.2_BIODEG_ORI_11643.jpg  \n",
            "  inflating: Dataset/Biodegradable Images/TRAIN.2_BIODEG_ORI_11681 (1).jpg  \n",
            "  inflating: Dataset/Biodegradable Images/TRAIN.2_BIODEG_ORI_11681.jpg  \n",
            "  inflating: Dataset/Biodegradable Images/TRAIN.2_BIODEG_ORI_11682.jpg  \n",
            "  inflating: Dataset/Biodegradable Images/TRAIN.2_BIODEG_ORI_11687.jpg  \n",
            "  inflating: Dataset/Biodegradable Images/TRAIN.2_BIODEG_ORI_11688.jpg  \n",
            "  inflating: Dataset/Biodegradable Images/TRAIN.2_BIODEG_ORI_11689.jpg  \n",
            "  inflating: Dataset/Biodegradable Images/TRAIN.2_BIODEG_ORI_1170.jpg  \n",
            "  inflating: Dataset/Biodegradable Images/TRAIN.2_BIODEG_ORI_11744.jpg  \n",
            "  inflating: Dataset/Biodegradable Images/TRAIN.2_BIODEG_ORI_11932.jpg  \n",
            "  inflating: Dataset/Biodegradable Images/TRAIN.2_BIODEG_ORI_11935.jpg  \n",
            "  inflating: Dataset/Recyclable Images/cardboard10.jpeg  \n",
            "  inflating: Dataset/Recyclable Images/cardboard102.jpeg  \n",
            "  inflating: Dataset/Recyclable Images/cardboard103.jpeg  \n",
            "  inflating: Dataset/Recyclable Images/cardboard107.jpeg  \n",
            "  inflating: Dataset/Recyclable Images/cardboard108.jpeg  \n",
            "  inflating: Dataset/Recyclable Images/cardboard11.jpeg  \n",
            "  inflating: Dataset/Recyclable Images/cardboard113.jpeg  \n",
            "  inflating: Dataset/Recyclable Images/cardboard115.jpeg  \n",
            "  inflating: Dataset/Recyclable Images/cardboard12.jpeg  \n",
            "  inflating: Dataset/Recyclable Images/cardboard126.jpeg  \n",
            "  inflating: Dataset/Recyclable Images/cardboard127.jpeg  \n",
            "  inflating: Dataset/Recyclable Images/cardboard13.jpeg  \n",
            "  inflating: Dataset/Recyclable Images/cardboard130.jpeg  \n",
            "  inflating: Dataset/Recyclable Images/cardboard131.jpeg  \n",
            "  inflating: Dataset/Recyclable Images/cardboard134.jpeg  \n",
            "  inflating: Dataset/Recyclable Images/cardboard136.jpeg  \n",
            "  inflating: Dataset/Recyclable Images/cardboard138.jpeg  \n",
            "  inflating: Dataset/Recyclable Images/cardboard145.jpeg  \n",
            "  inflating: Dataset/Recyclable Images/cardboard146.jpeg  \n",
            "  inflating: Dataset/Recyclable Images/cardboard149.jpeg  \n",
            "  inflating: Dataset/Recyclable Images/cardboard151.jpeg  \n",
            "  inflating: Dataset/Recyclable Images/cardboard152.jpeg  \n",
            "  inflating: Dataset/Recyclable Images/cardboard153.jpeg  \n",
            "  inflating: Dataset/Recyclable Images/cardboard158.jpeg  \n",
            "  inflating: Dataset/Recyclable Images/cardboard160.jpeg  \n",
            "  inflating: Dataset/Recyclable Images/cardboard165.jpeg  \n",
            "  inflating: Dataset/Recyclable Images/glass101.jpeg  \n",
            "  inflating: Dataset/Recyclable Images/glass104.jpeg  \n",
            "  inflating: Dataset/Recyclable Images/glass106.jpeg  \n",
            "  inflating: Dataset/Recyclable Images/glass110.jpeg  \n",
            "  inflating: Dataset/Recyclable Images/glass111.jpeg  \n",
            "  inflating: Dataset/Recyclable Images/glass121.jpeg  \n",
            "  inflating: Dataset/Recyclable Images/glass123.jpeg  \n",
            "  inflating: Dataset/Recyclable Images/glass128.jpeg  \n",
            "  inflating: Dataset/Recyclable Images/glass137.jpeg  \n",
            "  inflating: Dataset/Recyclable Images/glass150.jpeg  \n",
            "  inflating: Dataset/Recyclable Images/glass151.jpeg  \n",
            "  inflating: Dataset/Recyclable Images/glass152.jpeg  \n",
            "  inflating: Dataset/Recyclable Images/glass153.jpeg  \n",
            "  inflating: Dataset/Recyclable Images/glass156.jpeg  \n",
            "  inflating: Dataset/Recyclable Images/glass16.jpeg  \n",
            "  inflating: Dataset/Recyclable Images/glass163.jpeg  \n",
            "  inflating: Dataset/Recyclable Images/glass169.jpeg  \n",
            "  inflating: Dataset/Recyclable Images/glass176.jpeg  \n",
            "  inflating: Dataset/Recyclable Images/glass18.jpeg  \n",
            "  inflating: Dataset/Recyclable Images/glass180.jpeg  \n",
            "  inflating: Dataset/Recyclable Images/glass189.jpeg  \n",
            "  inflating: Dataset/Recyclable Images/glass19.jpeg  \n",
            "  inflating: Dataset/Recyclable Images/glass193.jpeg  \n",
            "  inflating: Dataset/Recyclable Images/glass194.jpeg  \n",
            "  inflating: Dataset/Recyclable Images/glass202.jpeg  \n",
            "  inflating: Dataset/Recyclable Images/glass205.jpeg  \n",
            "  inflating: Dataset/Recyclable Images/metal100.jpeg  \n",
            "  inflating: Dataset/Recyclable Images/metal101.jpeg  \n",
            "  inflating: Dataset/Recyclable Images/metal102.jpeg  \n",
            "  inflating: Dataset/Recyclable Images/metal103.jpeg  \n",
            "  inflating: Dataset/Recyclable Images/metal110.jpeg  \n",
            "  inflating: Dataset/Recyclable Images/metal112.jpeg  \n",
            "  inflating: Dataset/Recyclable Images/metal114.jpeg  \n",
            "  inflating: Dataset/Recyclable Images/metal115.jpeg  \n",
            "  inflating: Dataset/Recyclable Images/metal116.jpeg  \n",
            "  inflating: Dataset/Recyclable Images/metal118.jpeg  \n",
            "  inflating: Dataset/Recyclable Images/metal120.jpeg  \n",
            "  inflating: Dataset/Recyclable Images/metal123.jpeg  \n",
            "  inflating: Dataset/Recyclable Images/metal125.jpeg  \n",
            "  inflating: Dataset/Recyclable Images/metal130.jpeg  \n",
            "  inflating: Dataset/Recyclable Images/metal133.jpeg  \n",
            "  inflating: Dataset/Recyclable Images/metal137.jpeg  \n",
            "  inflating: Dataset/Recyclable Images/metal141.jpeg  \n",
            "  inflating: Dataset/Recyclable Images/metal154.jpeg  \n",
            "  inflating: Dataset/Recyclable Images/metal157.jpeg  \n",
            "  inflating: Dataset/Recyclable Images/metal171.jpeg  \n",
            "  inflating: Dataset/Recyclable Images/metal174.jpeg  \n",
            "  inflating: Dataset/Recyclable Images/metal179.jpeg  \n",
            "  inflating: Dataset/Recyclable Images/metal18.jpeg  \n",
            "  inflating: Dataset/Recyclable Images/metal185.jpeg  \n",
            "  inflating: Dataset/Recyclable Images/metal190.jpeg  \n",
            "  inflating: Dataset/Recyclable Images/metal198.jpeg  \n",
            "  inflating: Dataset/Recyclable Images/paper100.jpeg  \n",
            "  inflating: Dataset/Recyclable Images/paper103.jpeg  \n",
            "  inflating: Dataset/Recyclable Images/paper107.jpeg  \n",
            "  inflating: Dataset/Recyclable Images/paper11.jpeg  \n",
            "  inflating: Dataset/Recyclable Images/paper110.jpeg  \n",
            "  inflating: Dataset/Recyclable Images/paper115.jpeg  \n",
            "  inflating: Dataset/Recyclable Images/paper116.jpeg  \n",
            "  inflating: Dataset/Recyclable Images/paper119.jpeg  \n",
            "  inflating: Dataset/Recyclable Images/paper122.jpeg  \n",
            "  inflating: Dataset/Recyclable Images/paper123.jpeg  \n",
            "  inflating: Dataset/Recyclable Images/paper124.jpeg  \n",
            "  inflating: Dataset/Recyclable Images/paper126.jpeg  \n",
            "  inflating: Dataset/Recyclable Images/paper134.jpeg  \n",
            "  inflating: Dataset/Recyclable Images/paper136.jpeg  \n",
            "  inflating: Dataset/Recyclable Images/paper137.jpeg  \n",
            "  inflating: Dataset/Recyclable Images/paper145.jpeg  \n",
            "  inflating: Dataset/Recyclable Images/paper149.jpeg  \n",
            "  inflating: Dataset/Recyclable Images/paper15.jpeg  \n",
            "  inflating: Dataset/Recyclable Images/paper152.jpeg  \n",
            "  inflating: Dataset/Recyclable Images/paper153.jpeg  \n",
            "  inflating: Dataset/Recyclable Images/paper157.jpeg  \n",
            "  inflating: Dataset/Recyclable Images/paper165.jpeg  \n",
            "  inflating: Dataset/Recyclable Images/paper166.jpeg  \n",
            "  inflating: Dataset/Recyclable Images/paper173.jpeg  \n",
            "  inflating: Dataset/Recyclable Images/paper192.jpeg  \n",
            "  inflating: Dataset/Recyclable Images/paper198.jpeg  \n",
            "  inflating: Dataset/Recyclable Images/plastic100.jpeg  \n",
            "  inflating: Dataset/Recyclable Images/plastic103.jpeg  \n",
            "  inflating: Dataset/Recyclable Images/plastic105.jpeg  \n",
            "  inflating: Dataset/Recyclable Images/plastic107.jpeg  \n",
            "  inflating: Dataset/Recyclable Images/plastic108.jpeg  \n",
            "  inflating: Dataset/Recyclable Images/plastic116.jpeg  \n",
            "  inflating: Dataset/Recyclable Images/plastic122.jpeg  \n",
            "  inflating: Dataset/Recyclable Images/plastic127.jpeg  \n",
            "  inflating: Dataset/Recyclable Images/plastic130.jpeg  \n",
            "  inflating: Dataset/Recyclable Images/plastic135.jpeg  \n",
            "  inflating: Dataset/Recyclable Images/plastic14.jpeg  \n",
            "  inflating: Dataset/Recyclable Images/plastic15.jpeg  \n",
            "  inflating: Dataset/Recyclable Images/plastic151.jpeg  \n",
            "  inflating: Dataset/Recyclable Images/plastic152.jpeg  \n",
            "  inflating: Dataset/Recyclable Images/plastic157.jpeg  \n",
            "  inflating: Dataset/Recyclable Images/plastic160.jpeg  \n",
            "  inflating: Dataset/Recyclable Images/plastic165.jpeg  \n",
            "  inflating: Dataset/Recyclable Images/plastic167.jpeg  \n",
            "  inflating: Dataset/Recyclable Images/plastic171.jpeg  \n",
            "  inflating: Dataset/Recyclable Images/plastic18.jpeg  \n",
            "  inflating: Dataset/Recyclable Images/plastic184.jpeg  \n",
            "  inflating: Dataset/Recyclable Images/plastic186.jpeg  \n",
            "  inflating: Dataset/Recyclable Images/plastic188.jpeg  \n",
            "  inflating: Dataset/Recyclable Images/plastic189.jpeg  \n",
            "  inflating: Dataset/Recyclable Images/plastic202.jpeg  \n",
            "  inflating: Dataset/Recyclable Images/plastic205.jpeg  \n",
            "  inflating: Dataset/Trash Images/TRAIN.2_NBIODEG_CCW_0.jpg  \n",
            "  inflating: Dataset/Trash Images/TRAIN.2_NBIODEG_CCW_1.jpg  \n",
            "  inflating: Dataset/Trash Images/TRAIN.2_NBIODEG_CCW_100.jpg  \n",
            "  inflating: Dataset/Trash Images/TRAIN.2_NBIODEG_CCW_1000.jpg  \n",
            "  inflating: Dataset/Trash Images/TRAIN.2_NBIODEG_CCW_1004.jpg  \n",
            "  inflating: Dataset/Trash Images/TRAIN.2_NBIODEG_CCW_1007.jpg  \n",
            "  inflating: Dataset/Trash Images/TRAIN.4_NBIODEG_CCW_1237.jpg  \n",
            "  inflating: Dataset/Trash Images/TRAIN.4_NBIODEG_CCW_1240.jpg  \n",
            "  inflating: Dataset/Trash Images/TRAIN.4_NBIODEG_CCW_1491.jpg  \n",
            "  inflating: Dataset/Trash Images/TRAIN.4_NBIODEG_CCW_1493.jpg  \n",
            "  inflating: Dataset/Trash Images/TRAIN.4_NBIODEG_CCW_1496.jpg  \n",
            "  inflating: Dataset/Trash Images/TRAIN.4_NBIODEG_CCW_1503.jpg  \n",
            "  inflating: Dataset/Trash Images/TRAIN.4_NBIODEG_CCW_1506.jpg  \n",
            "  inflating: Dataset/Trash Images/TRAIN.4_NBIODEG_CCW_1520.jpg  \n",
            "  inflating: Dataset/Trash Images/TRAIN.4_NBIODEG_CCW_1536.jpg  \n",
            "  inflating: Dataset/Trash Images/TRAIN.4_NBIODEG_CCW_1777.jpg  \n",
            "  inflating: Dataset/Trash Images/TRAIN.4_NBIODEG_CCW_1778.jpg  \n",
            "  inflating: Dataset/Trash Images/TRAIN.4_NBIODEG_CCW_1895.jpg  \n",
            "  inflating: Dataset/Trash Images/TRAIN.4_NBIODEG_CCW_2209.jpg  \n",
            "  inflating: Dataset/Trash Images/TRAIN.4_NBIODEG_CCW_2210.jpg  \n",
            "  inflating: Dataset/Trash Images/TRAIN.4_NBIODEG_CCW_2313.jpg  \n",
            "  inflating: Dataset/Trash Images/TRAIN.4_NBIODEG_CCW_2316.jpg  \n",
            "  inflating: Dataset/Trash Images/TRAIN.4_NBIODEG_CCW_2348.jpg  \n",
            "  inflating: Dataset/Trash Images/TRAIN.4_NBIODEG_CCW_2372.jpg  \n",
            "  inflating: Dataset/Trash Images/trash1.jpeg  \n",
            "  inflating: Dataset/Trash Images/trash10.jpeg  \n",
            "  inflating: Dataset/Trash Images/trash102.jpeg  \n",
            "  inflating: Dataset/Trash Images/trash105.jpeg  \n",
            "  inflating: Dataset/Trash Images/trash107.jpeg  \n",
            "  inflating: Dataset/Trash Images/trash108.jpeg  \n",
            "  inflating: Dataset/Trash Images/trash109.jpeg  \n",
            "  inflating: Dataset/Trash Images/trash11.jpeg  \n",
            "  inflating: Dataset/Trash Images/trash110.jpeg  \n",
            "  inflating: Dataset/Trash Images/trash111.jpeg  \n",
            "  inflating: Dataset/Trash Images/trash112.jpeg  \n",
            "  inflating: Dataset/Trash Images/trash114.jpeg  \n",
            "  inflating: Dataset/Trash Images/trash115.jpeg  \n",
            "  inflating: Dataset/Trash Images/trash116.jpeg  \n",
            "  inflating: Dataset/Trash Images/trash117.jpeg  \n",
            "  inflating: Dataset/Trash Images/trash118.jpeg  \n",
            "  inflating: Dataset/Trash Images/trash119.jpeg  \n",
            "  inflating: Dataset/Trash Images/trash12.jpeg  \n",
            "  inflating: Dataset/Trash Images/trash120.jpeg  \n",
            "  inflating: Dataset/Trash Images/trash121.jpeg  \n",
            "  inflating: Dataset/Trash Images/trash122.jpeg  \n",
            "  inflating: Dataset/Trash Images/trash123.jpeg  \n",
            "  inflating: Dataset/Trash Images/trash124.jpeg  \n",
            "  inflating: Dataset/Trash Images/trash125.jpeg  \n",
            "  inflating: Dataset/Trash Images/trash126.jpeg  \n",
            "  inflating: Dataset/Trash Images/trash127.jpeg  \n",
            "  inflating: Dataset/Trash Images/trash128.jpeg  \n",
            "  inflating: Dataset/Trash Images/trash129.jpeg  \n",
            "  inflating: Dataset/Trash Images/trash130.jpeg  \n",
            "  inflating: Dataset/Trash Images/trash132.jpeg  \n",
            "  inflating: Dataset/Trash Images/trash133.jpeg  \n",
            "  inflating: Dataset/Trash Images/trash134.jpeg  \n",
            "  inflating: Dataset/Trash Images/trash135.jpeg  \n",
            "  inflating: Dataset/Trash Images/trash136.jpeg  \n",
            "  inflating: Dataset/Trash Images/trash137.jpeg  \n",
            "  inflating: Dataset/Trash Images/trash14.jpeg  \n",
            "  inflating: Dataset/Trash Images/trash15.jpeg  \n",
            "  inflating: Dataset/Trash Images/trash16.jpeg  \n",
            "  inflating: Dataset/Trash Images/trash18.jpeg  \n",
            "  inflating: Dataset/Trash Images/trash19.jpeg  \n",
            "  inflating: Dataset/Trash Images/trash2.jpeg  \n",
            "  inflating: Dataset/Trash Images/trash20.jpeg  \n",
            "  inflating: Dataset/Trash Images/trash21.jpeg  \n",
            "  inflating: Dataset/Trash Images/trash22.jpeg  \n",
            "  inflating: Dataset/Trash Images/trash23.jpeg  \n",
            "  inflating: Dataset/Trash Images/trash24.jpeg  \n",
            "  inflating: Dataset/Trash Images/trash25.jpeg  \n",
            "  inflating: Dataset/Trash Images/trash27.jpeg  \n",
            "  inflating: Dataset/Trash Images/trash28.jpeg  \n",
            "  inflating: Dataset/Trash Images/trash29.jpeg  \n",
            "  inflating: Dataset/Trash Images/trash3.jpeg  \n",
            "  inflating: Dataset/Trash Images/trash32.jpeg  \n",
            "  inflating: Dataset/Trash Images/trash33.jpeg  \n",
            "  inflating: Dataset/Trash Images/trash34.jpeg  \n",
            "  inflating: Dataset/Trash Images/trash35.jpeg  \n",
            "  inflating: Dataset/Trash Images/trash36.jpeg  \n",
            "  inflating: Dataset/Trash Images/trash37.jpeg  \n",
            "  inflating: Dataset/Trash Images/trash38.jpeg  \n",
            "  inflating: Dataset/Trash Images/trash39.jpeg  \n",
            "  inflating: Dataset/Trash Images/trash4.jpeg  \n",
            "  inflating: Dataset/Trash Images/trash40.jpeg  \n",
            "  inflating: Dataset/Trash Images/trash41.jpeg  \n",
            "  inflating: Dataset/Trash Images/trash43.jpeg  \n",
            "  inflating: Dataset/Trash Images/trash44.jpeg  \n",
            "  inflating: Dataset/Trash Images/trash45.jpeg  \n",
            "  inflating: Dataset/Trash Images/trash46.jpeg  \n",
            "  inflating: Dataset/Trash Images/trash47.jpeg  \n",
            "  inflating: Dataset/Trash Images/trash48.jpeg  \n",
            "  inflating: Dataset/Trash Images/trash5.jpeg  \n",
            "  inflating: Dataset/Trash Images/trash50.jpeg  \n",
            "  inflating: Dataset/Trash Images/trash52.jpeg  \n",
            "  inflating: Dataset/Trash Images/trash53.jpeg  \n",
            "  inflating: Dataset/Trash Images/trash54.jpeg  \n",
            "  inflating: Dataset/Trash Images/trash57.jpeg  \n",
            "  inflating: Dataset/Trash Images/trash6.jpeg  \n",
            "  inflating: Dataset/Trash Images/trash60.jpeg  \n",
            "  inflating: Dataset/Trash Images/trash62.jpeg  \n",
            "  inflating: Dataset/Trash Images/trash63.jpeg  \n",
            "  inflating: Dataset/Trash Images/trash64.jpeg  \n",
            "  inflating: Dataset/Trash Images/trash66.jpeg  \n",
            "  inflating: Dataset/Trash Images/trash68.jpeg  \n",
            "  inflating: Dataset/Trash Images/trash69.jpeg  \n",
            "  inflating: Dataset/Trash Images/trash70.jpeg  \n",
            "  inflating: Dataset/Trash Images/trash71.jpeg  \n",
            "  inflating: Dataset/Trash Images/trash72.jpeg  \n",
            "  inflating: Dataset/Trash Images/trash73.jpeg  \n",
            "  inflating: Dataset/Trash Images/trash75.jpeg  \n",
            "  inflating: Dataset/Trash Images/trash77.jpeg  \n",
            "  inflating: Dataset/Trash Images/trash78.jpeg  \n",
            "  inflating: Dataset/Trash Images/trash79.jpeg  \n",
            "  inflating: Dataset/Trash Images/trash80.jpeg  \n",
            "  inflating: Dataset/Trash Images/trash82.jpeg  \n",
            "  inflating: Dataset/Trash Images/trash83.jpeg  \n",
            "  inflating: Dataset/Trash Images/trash85.jpeg  \n",
            "  inflating: Dataset/Trash Images/trash86.jpeg  \n",
            "  inflating: Dataset/Trash Images/trash87.jpeg  \n",
            "  inflating: Dataset/Trash Images/trash88.jpeg  \n",
            "  inflating: Dataset/Trash Images/trash9.jpeg  \n",
            "  inflating: Dataset/Trash Images/trash90.jpeg  \n",
            "  inflating: Dataset/Trash Images/trash91.jpeg  \n",
            "  inflating: Dataset/Trash Images/trash92.jpeg  \n",
            "  inflating: Dataset/Trash Images/trash93.jpeg  \n",
            "  inflating: Dataset/Trash Images/trash94.jpeg  \n",
            "  inflating: Dataset/Trash Images/trash97.jpeg  \n",
            "  inflating: Dataset/Trash Images/trash98.jpeg  \n",
            "  inflating: Dataset/Trash Images/trash99.jpeg  \n"
          ]
        }
      ],
      "source": [
        " !unzip  /content/municipal-solid-waste-dataset.zip"
      ]
    },
    {
      "cell_type": "code",
      "execution_count": null,
      "metadata": {
        "id": "FLIPqaXuk8yL"
      },
      "outputs": [],
      "source": [
        "import os\n",
        "import shutil\n",
        "import numpy as np\n",
        "from tensorflow.keras.preprocessing.image import ImageDataGenerator\n",
        "from sklearn.model_selection import train_test_split\n",
        "from tensorflow.keras.applications.vgg16 import VGG16\n",
        "from tensorflow.keras.layers import Dense, Flatten\n",
        "from tensorflow.keras.models import Model\n",
        "from keras.optimizers import Adam\n",
        "from tensorflow.keras.models import Model\n",
        "from keras.preprocessing import image\n",
        "from keras.applications.vgg16 import preprocess_input\n",
        "from tensorflow.keras.preprocessing.image import load_img, img_to_array"
      ]
    },
    {
      "cell_type": "code",
      "execution_count": null,
      "metadata": {
        "colab": {
          "base_uri": "https://localhost:8080/"
        },
        "id": "BAJni0tqw3XB",
        "outputId": "9b94799d-df37-4e76-80c3-0193a9bdb8a2"
      },
      "outputs": [
        {
          "output_type": "stream",
          "name": "stdout",
          "text": [
            "Collecting Augmentor\n",
            "  Downloading Augmentor-0.2.12-py2.py3-none-any.whl.metadata (1.3 kB)\n",
            "Requirement already satisfied: Pillow>=5.2.0 in /usr/local/lib/python3.10/dist-packages (from Augmentor) (9.4.0)\n",
            "Requirement already satisfied: tqdm>=4.9.0 in /usr/local/lib/python3.10/dist-packages (from Augmentor) (4.66.4)\n",
            "Requirement already satisfied: numpy>=1.11.0 in /usr/local/lib/python3.10/dist-packages (from Augmentor) (1.25.2)\n",
            "Downloading Augmentor-0.2.12-py2.py3-none-any.whl (38 kB)\n",
            "Installing collected packages: Augmentor\n",
            "Successfully installed Augmentor-0.2.12\n"
          ]
        }
      ],
      "source": [
        "!pip install Augmentor"
      ]
    },
    {
      "cell_type": "code",
      "execution_count": null,
      "metadata": {
        "colab": {
          "base_uri": "https://localhost:8080/"
        },
        "id": "9CR0Zip60tbp",
        "outputId": "0ec426dc-8f2e-4155-94f6-5b034b169731"
      },
      "outputs": [
        {
          "output_type": "stream",
          "name": "stdout",
          "text": [
            "Biodegradable Images 130\n",
            "Recyclable Images 130\n",
            "Trash Images 130\n",
            "Dataset split into training, validation, and test sets.\n"
          ]
        }
      ],
      "source": [
        "\n",
        "\n",
        "# Set the path to the dataset\n",
        "dataset_dir = '/content/Dataset'\n",
        "classes = os.listdir(dataset_dir)\n",
        "\n",
        "# Create directories for train, val, and test sets\n",
        "output_dir = 'output_dataset'\n",
        "os.makedirs(output_dir, exist_ok=True)\n",
        "os.makedirs(os.path.join(output_dir, 'train'), exist_ok=True)\n",
        "os.makedirs(os.path.join(output_dir, 'val'), exist_ok=True)\n",
        "os.makedirs(os.path.join(output_dir, 'test'), exist_ok=True)\n",
        "\n",
        "for cls in classes:\n",
        "    os.makedirs(os.path.join(output_dir, 'train', cls), exist_ok=True)\n",
        "    os.makedirs(os.path.join(output_dir, 'val', cls), exist_ok=True)\n",
        "    os.makedirs(os.path.join(output_dir, 'test', cls), exist_ok=True)\n",
        "\n",
        "    class_dir = os.path.join(dataset_dir, cls)\n",
        "    images = os.listdir(class_dir)\n",
        "\n",
        "    print(cls,len(images))\n",
        "\n",
        "    train_and_val_images, test_images = train_test_split(images, test_size=0.2, random_state=42)\n",
        "    train_images, val_images = train_test_split(train_and_val_images, test_size=0.25, random_state=42)  # 0.25 x 0.8 = 0.2\n",
        "\n",
        "    # Copy images to respective directories\n",
        "    for img in train_images:\n",
        "        shutil.copy(os.path.join(class_dir, img), os.path.join(output_dir, 'train', cls, img))\n",
        "    for img in val_images:\n",
        "        shutil.copy(os.path.join(class_dir, img), os.path.join(output_dir, 'val', cls, img))\n",
        "    for img in test_images:\n",
        "        shutil.copy(os.path.join(class_dir, img), os.path.join(output_dir, 'test', cls, img))\n",
        "\n",
        "print(\"Dataset split into training, validation, and test sets.\")\n"
      ]
    },
    {
      "cell_type": "code",
      "execution_count": null,
      "metadata": {
        "colab": {
          "base_uri": "https://localhost:8080/"
        },
        "id": "pJY01vcWMqEu",
        "outputId": "dababcea-8d3c-4d60-9421-e5e447dd40d6"
      },
      "outputs": [
        {
          "output_type": "stream",
          "name": "stdout",
          "text": [
            "Found 234 images belonging to 3 classes.\n",
            "Found 78 images belonging to 3 classes.\n",
            "Found 78 images belonging to 3 classes.\n",
            "{'Biodegradable Images': 0, 'Recyclable Images': 1, 'Trash Images': 2}\n",
            "{'Biodegradable Images': 0, 'Recyclable Images': 1, 'Trash Images': 2}\n",
            "{'Biodegradable Images': 0, 'Recyclable Images': 1, 'Trash Images': 2}\n"
          ]
        }
      ],
      "source": [
        "\n",
        "# Define directories\n",
        "dataset_dir = '/content/output_dataset'\n",
        "train_dir = os.path.join(dataset_dir, 'train')\n",
        "val_dir = os.path.join(dataset_dir, 'val')\n",
        "test_dir = os.path.join(dataset_dir, 'test')\n",
        "\n",
        "# Define image size expected by the pre-trained model\n",
        "IMG_SIZE = (224, 224)  # Common size for many models like ResNet, VGG, MobileNet\n",
        "\n",
        "# Create ImageDataGenerators for resizing and augmenting the images\n",
        "train_datagen = ImageDataGenerator(\n",
        "    rescale=1./255,\n",
        "    rotation_range=20,\n",
        "    width_shift_range=0.2,\n",
        "    height_shift_range=0.2,\n",
        "    shear_range=0.2,\n",
        "    zoom_range=0.2,\n",
        "    horizontal_flip=True,\n",
        "    fill_mode='nearest'\n",
        ")\n",
        "\n",
        "val_test_datagen = ImageDataGenerator(rescale=1./255)\n",
        "\n",
        "# Load and resize the images from directories\n",
        "train_generator = train_datagen.flow_from_directory(\n",
        "    train_dir,\n",
        "    target_size=IMG_SIZE,\n",
        "    batch_size=32,\n",
        "    class_mode='binary'  # Assuming binary classification for healthy vs rotten\n",
        ")\n",
        "\n",
        "val_generator = val_test_datagen.flow_from_directory(\n",
        "    val_dir,\n",
        "    target_size=IMG_SIZE,\n",
        "    batch_size=32,\n",
        "    class_mode='binary'\n",
        ")\n",
        "\n",
        "test_generator = val_test_datagen.flow_from_directory(\n",
        "    test_dir,\n",
        "    target_size=IMG_SIZE,\n",
        "    batch_size=32,\n",
        "    class_mode='binary',\n",
        "    shuffle=False  # Do not shuffle test data\n",
        ")\n",
        "\n",
        "# Print class indices for reference\n",
        "print(train_generator.class_indices)\n",
        "print(val_generator.class_indices)\n",
        "print(test_generator.class_indices)\n"
      ]
    },
    {
      "cell_type": "code",
      "execution_count": null,
      "metadata": {
        "colab": {
          "base_uri": "https://localhost:8080/",
          "height": 217
        },
        "id": "SQ5l2OKTipF4",
        "outputId": "d34e18a9-19b3-4dc7-f1bb-ff6d221cb3bb"
      },
      "outputs": [
        {
          "output_type": "display_data",
          "data": {
            "image/jpeg": "[encoded data removed]",
            "text/plain": [
              "<IPython.core.display.Image object>"
            ]
          },
          "metadata": {}
        }
      ],
      "source": [
        "import random\n",
        "from IPython.display import Image, display\n",
        "\n",
        "# Specify the path to your image folder\n",
        "folder_path = '/content/output_dataset/train/Biodegradable Images'  # Replace with the actual path to your image folder\n",
        "\n",
        "# List all files in the folder\n",
        "image_files = [f for f in os.listdir(folder_path) if f.endswith(('.jpg', '.png', '.jpeg'))]\n",
        "\n",
        "# Select a random image from the list\n",
        "selected_image = random.choice(image_files)\n",
        "\n",
        "# Display the randomly selected image\n",
        "image_path = os.path.join(folder_path, selected_image)\n",
        "display(Image(filename=image_path))"
      ]
    },
    {
      "cell_type": "code",
      "execution_count": null,
      "metadata": {
        "colab": {
          "base_uri": "https://localhost:8080/",
          "height": 401
        },
        "id": "zPXzPpOiizAK",
        "outputId": "153cbeee-877a-4c8f-f9df-ef153380decd"
      },
      "outputs": [
        {
          "output_type": "display_data",
          "data": {
            "image/jpeg": "[encoded data removed]",
            "text/plain": [
              "<IPython.core.display.Image object>"
            ]
          },
          "metadata": {}
        }
      ],
      "source": [
        "folder_path = '/content/output_dataset/test/Recyclable Images'  # Replace with the actual path to your image folder\n",
        "\n",
        "# List all files in the folder\n",
        "image_files = [f for f in os.listdir(folder_path) if f.endswith(('.jpg', '.png', '.jpeg'))]\n",
        "\n",
        "# Select a random image from the list\n",
        "selected_image = random.choice(image_files)\n",
        "\n",
        "# Display the randomly selected image\n",
        "image_path = os.path.join(folder_path, selected_image)\n",
        "display(Image(filename=image_path))"
      ]
    },
    {
      "cell_type": "code",
      "execution_count": null,
      "metadata": {
        "colab": {
          "base_uri": "https://localhost:8080/",
          "height": 401
        },
        "id": "BROJGNaKi7xB",
        "outputId": "8e582d01-04be-4f8c-b2fe-294bf48419bf"
      },
      "outputs": [
        {
          "output_type": "display_data",
          "data": {
            "image/jpeg": "[encoded data removed]",
            "text/plain": [
              "<IPython.core.display.Image object>"
            ]
          },
          "metadata": {}
        }
      ],
      "source": [
        "folder_path = '/content/output_dataset/test/Trash Images'  # Replace with the actual path to your image folder\n",
        "\n",
        "# List all files in the folder\n",
        "image_files = [f for f in os.listdir(folder_path) if f.endswith(('.jpg', '.png', '.jpeg'))]\n",
        "\n",
        "# Select a random image from the list\n",
        "selected_image = random.choice(image_files)\n",
        "\n",
        "# Display the randomly selected image\n",
        "image_path = os.path.join(folder_path, selected_image)\n",
        "display(Image(filename=image_path))"
      ]
    },
    {
      "cell_type": "code",
      "execution_count": null,
      "metadata": {
        "colab": {
          "base_uri": "https://localhost:8080/",
          "height": 401
        },
        "id": "NP3vNjILjNum",
        "outputId": "1988283f-8570-4698-b465-b17976d2d0c6"
      },
      "outputs": [
        {
          "output_type": "display_data",
          "data": {
            "image/jpeg": "[encoded data removed]",
            "text/plain": [
              "<IPython.core.display.Image object>"
            ]
          },
          "metadata": {}
        }
      ],
      "source": [
        "folder_path = '/content/output_dataset/train/Trash Images'  # Replace with the actual path to your image folder\n",
        "\n",
        "# List all files in the folder\n",
        "image_files = [f for f in os.listdir(folder_path) if f.endswith(('.jpg', '.png', '.jpeg'))]\n",
        "\n",
        "# Select a random image from the list\n",
        "selected_image = random.choice(image_files)\n",
        "\n",
        "# Display the randomly selected image\n",
        "image_path = os.path.join(folder_path, selected_image)\n",
        "display(Image(filename=image_path))"
      ]
    },
    {
      "cell_type": "code",
      "execution_count": null,
      "metadata": {
        "id": "P6b4Isn-1oWX"
      },
      "outputs": [],
      "source": [
        "trainpath = \"/content/output_dataset/train\"\n",
        "testpath=\"/content/output_dataset/test\""
      ]
    },
    {
      "cell_type": "code",
      "execution_count": null,
      "metadata": {
        "id": "LX_qPfmfdPYG"
      },
      "outputs": [],
      "source": [
        "train_datagen = ImageDataGenerator(rescale = 1./255,zoom_range= 0.2,shear_range= 0.2)\n",
        "test_datagen = ImageDataGenerator(rescale = 1./255)"
      ]
    },
    {
      "cell_type": "code",
      "execution_count": null,
      "metadata": {
        "colab": {
          "base_uri": "https://localhost:8080/"
        },
        "id": "iXZre-z1dTmF",
        "outputId": "4393d6f6-f520-4c21-952d-e65a4f4ee5fe"
      },
      "outputs": [
        {
          "output_type": "stream",
          "name": "stdout",
          "text": [
            "Found 234 images belonging to 3 classes.\n",
            "Found 78 images belonging to 3 classes.\n"
          ]
        }
      ],
      "source": [
        "train = train_datagen.flow_from_directory(trainpath,target_size =(224,224),batch_size = 20)\n",
        "test = test_datagen.flow_from_directory(testpath,target_size =(224,224),batch_size = 20)"
      ]
    },
    {
      "cell_type": "markdown",
      "source": [
        "# **vgg16**"
      ],
      "metadata": {
        "id": "t6Zft9f4K_Va"
      }
    },
    {
      "cell_type": "code",
      "execution_count": null,
      "metadata": {
        "id": "URmJ7G81N4cA",
        "colab": {
          "base_uri": "https://localhost:8080/"
        },
        "outputId": "3e4bd5a7-2ed5-43e6-f63f-1e27e34b12a0"
      },
      "outputs": [
        {
          "output_type": "stream",
          "name": "stdout",
          "text": [
            "Downloading data from https://storage.googleapis.com/tensorflow/keras-applications/vgg16/vgg16_weights_tf_dim_ordering_tf_kernels_notop.h5\n",
            "58889256/58889256 [==============================] - 2s 0us/step\n"
          ]
        }
      ],
      "source": [
        "vgg = VGG16(include_top = False,input_shape = (224,224,3))"
      ]
    },
    {
      "cell_type": "code",
      "execution_count": null,
      "metadata": {
        "colab": {
          "base_uri": "https://localhost:8080/"
        },
        "id": "DTf0yPzGd6Ri",
        "outputId": "9f2ae6f1-c820-4444-b212-062334d0082c"
      },
      "outputs": [
        {
          "output_type": "stream",
          "name": "stdout",
          "text": [
            "<keras.src.engine.input_layer.InputLayer object at 0x79623c0cec50>\n",
            "<keras.src.layers.convolutional.conv2d.Conv2D object at 0x79623c699fc0>\n",
            "<keras.src.layers.convolutional.conv2d.Conv2D object at 0x79623c699c00>\n",
            "<keras.src.layers.pooling.max_pooling2d.MaxPooling2D object at 0x79623c69a980>\n",
            "<keras.src.layers.convolutional.conv2d.Conv2D object at 0x79623c69b820>\n",
            "<keras.src.layers.convolutional.conv2d.Conv2D object at 0x7962c9b3cd30>\n",
            "<keras.src.layers.pooling.max_pooling2d.MaxPooling2D object at 0x79623b030a00>\n",
            "<keras.src.layers.convolutional.conv2d.Conv2D object at 0x7962c9b3f5b0>\n",
            "<keras.src.layers.convolutional.conv2d.Conv2D object at 0x7962c9b3db40>\n",
            "<keras.src.layers.convolutional.conv2d.Conv2D object at 0x79623c69b670>\n",
            "<keras.src.layers.pooling.max_pooling2d.MaxPooling2D object at 0x79623b0324a0>\n",
            "<keras.src.layers.convolutional.conv2d.Conv2D object at 0x79623b030760>\n",
            "<keras.src.layers.convolutional.conv2d.Conv2D object at 0x79623b033c70>\n",
            "<keras.src.layers.convolutional.conv2d.Conv2D object at 0x79623b031e40>\n",
            "<keras.src.layers.pooling.max_pooling2d.MaxPooling2D object at 0x79623b055390>\n",
            "<keras.src.layers.convolutional.conv2d.Conv2D object at 0x79623b055ab0>\n",
            "<keras.src.layers.convolutional.conv2d.Conv2D object at 0x79623b0561d0>\n",
            "<keras.src.layers.convolutional.conv2d.Conv2D object at 0x79623b0568c0>\n",
            "<keras.src.layers.pooling.max_pooling2d.MaxPooling2D object at 0x79623b0575e0>\n"
          ]
        }
      ],
      "source": [
        "for layer in vgg.layers:\n",
        "  print(layer)"
      ]
    },
    {
      "cell_type": "code",
      "execution_count": null,
      "metadata": {
        "id": "Cs0s6C_4d-BF"
      },
      "outputs": [],
      "source": [
        "for layer in vgg.layers:\n",
        "  layer.trainable = False"
      ]
    },
    {
      "cell_type": "code",
      "execution_count": null,
      "metadata": {
        "id": "s-I1MYvOeKn4"
      },
      "outputs": [],
      "source": [
        "x= Flatten()(vgg.output)"
      ]
    },
    {
      "cell_type": "code",
      "execution_count": null,
      "metadata": {
        "id": "_wBXwn-peN5z"
      },
      "outputs": [],
      "source": [
        "output = Dense(3, activation ='softmax')(x)"
      ]
    },
    {
      "cell_type": "code",
      "execution_count": null,
      "metadata": {
        "id": "I48ScSzBeTt8"
      },
      "outputs": [],
      "source": [
        "vgg16 = Model(vgg.input,output)"
      ]
    },
    {
      "cell_type": "code",
      "execution_count": null,
      "metadata": {
        "colab": {
          "base_uri": "https://localhost:8080/"
        },
        "id": "76IGVMB3eXL5",
        "outputId": "b4242771-8bb2-4f88-dbbe-dac4901ab567"
      },
      "outputs": [
        {
          "output_type": "stream",
          "name": "stdout",
          "text": [
            "Model: \"model\"\n",
            "_________________________________________________________________\n",
            " Layer (type)                Output Shape              Param #   \n",
            "=================================================================\n",
            " input_1 (InputLayer)        [(None, 224, 224, 3)]     0         \n",
            "                                                                 \n",
            " block1_conv1 (Conv2D)       (None, 224, 224, 64)      1792      \n",
            "                                                                 \n",
            " block1_conv2 (Conv2D)       (None, 224, 224, 64)      36928     \n",
            "                                                                 \n",
            " block1_pool (MaxPooling2D)  (None, 112, 112, 64)      0         \n",
            "                                                                 \n",
            " block2_conv1 (Conv2D)       (None, 112, 112, 128)     73856     \n",
            "                                                                 \n",
            " block2_conv2 (Conv2D)       (None, 112, 112, 128)     147584    \n",
            "                                                                 \n",
            " block2_pool (MaxPooling2D)  (None, 56, 56, 128)       0         \n",
            "                                                                 \n",
            " block3_conv1 (Conv2D)       (None, 56, 56, 256)       295168    \n",
            "                                                                 \n",
            " block3_conv2 (Conv2D)       (None, 56, 56, 256)       590080    \n",
            "                                                                 \n",
            " block3_conv3 (Conv2D)       (None, 56, 56, 256)       590080    \n",
            "                                                                 \n",
            " block3_pool (MaxPooling2D)  (None, 28, 28, 256)       0         \n",
            "                                                                 \n",
            " block4_conv1 (Conv2D)       (None, 28, 28, 512)       1180160   \n",
            "                                                                 \n",
            " block4_conv2 (Conv2D)       (None, 28, 28, 512)       2359808   \n",
            "                                                                 \n",
            " block4_conv3 (Conv2D)       (None, 28, 28, 512)       2359808   \n",
            "                                                                 \n",
            " block4_pool (MaxPooling2D)  (None, 14, 14, 512)       0         \n",
            "                                                                 \n",
            " block5_conv1 (Conv2D)       (None, 14, 14, 512)       2359808   \n",
            "                                                                 \n",
            " block5_conv2 (Conv2D)       (None, 14, 14, 512)       2359808   \n",
            "                                                                 \n",
            " block5_conv3 (Conv2D)       (None, 14, 14, 512)       2359808   \n",
            "                                                                 \n",
            " block5_pool (MaxPooling2D)  (None, 7, 7, 512)         0         \n",
            "                                                                 \n",
            " flatten (Flatten)           (None, 25088)             0         \n",
            "                                                                 \n",
            " dense (Dense)               (None, 3)                 75267     \n",
            "                                                                 \n",
            "=================================================================\n",
            "Total params: 14789955 (56.42 MB)\n",
            "Trainable params: 75267 (294.01 KB)\n",
            "Non-trainable params: 14714688 (56.13 MB)\n",
            "_________________________________________________________________\n"
          ]
        }
      ],
      "source": [
        "vgg16.summary()"
      ]
    },
    {
      "cell_type": "code",
      "execution_count": null,
      "metadata": {
        "colab": {
          "base_uri": "https://localhost:8080/"
        },
        "id": "hAA0Difwea6C",
        "outputId": "910ed5aa-30f7-4fa3-acc4-6aa7d51695b1"
      },
      "outputs": [
        {
          "output_type": "stream",
          "name": "stderr",
          "text": [
            "WARNING:absl:`lr` is deprecated in Keras optimizer, please use `learning_rate` or use the legacy optimizer, e.g.,tf.keras.optimizers.legacy.Adam.\n"
          ]
        },
        {
          "output_type": "stream",
          "name": "stdout",
          "text": [
            "Epoch 1/10\n",
            "5/5 [==============================] - 120s 24s/step - loss: 1.4950 - accuracy: 0.5300 - val_loss: 1.1408 - val_accuracy: 0.5513\n",
            "Epoch 2/10\n",
            "5/5 [==============================] - 111s 25s/step - loss: 0.7526 - accuracy: 0.6600 - val_loss: 0.7541 - val_accuracy: 0.6667\n",
            "Epoch 3/10\n",
            "5/5 [==============================] - 105s 23s/step - loss: 0.5088 - accuracy: 0.7766 - val_loss: 0.6151 - val_accuracy: 0.6923\n",
            "Epoch 4/10\n",
            "5/5 [==============================] - 107s 24s/step - loss: 0.3544 - accuracy: 0.8936 - val_loss: 0.6226 - val_accuracy: 0.7821\n",
            "Epoch 5/10\n",
            "5/5 [==============================] - 104s 23s/step - loss: 0.2693 - accuracy: 0.8936 - val_loss: 0.9809 - val_accuracy: 0.7051\n",
            "Epoch 6/10\n",
            "5/5 [==============================] - 108s 24s/step - loss: 0.2384 - accuracy: 0.9300 - val_loss: 0.8708 - val_accuracy: 0.7179\n",
            "Epoch 7/10\n",
            "5/5 [==============================] - 116s 26s/step - loss: 0.1812 - accuracy: 0.9500 - val_loss: 0.6773 - val_accuracy: 0.7436\n"
          ]
        }
      ],
      "source": [
        "from keras.callbacks import EarlyStopping\n",
        "from keras.optimizers import Adam\n",
        "opt = Adam(lr=0.0001)\n",
        "\n",
        "# Assuming you have defined your VGG16 model as vgg16\n",
        "\n",
        "# Define Early Stopping callback\n",
        "early_stopping = EarlyStopping(monitor='val_accuracy', patience=3, restore_best_weights=True)\n",
        "\n",
        "# Compile the model (you may have already done this)\n",
        "vgg16.compile(optimizer = 'Adam' , loss='categorical_crossentropy', metrics=['accuracy'])\n",
        "\n",
        "\n",
        "# # Train the model with early stopping callback\n",
        "history = vgg16.fit(train, validation_data=test,\n",
        "                    epochs=10,\n",
        "\n",
        "                   steps_per_epoch=5,\n",
        "                 callbacks=[early_stopping])"
      ]
    },
    {
      "cell_type": "code",
      "source": [
        "from keras.preprocessing import image\n",
        "from keras.applications.vgg16 import preprocess_input\n",
        "from tensorflow.keras.preprocessing.image import load_img, img_to_array"
      ],
      "metadata": {
        "id": "0iPGXMNxG153"
      },
      "execution_count": null,
      "outputs": []
    },
    {
      "cell_type": "code",
      "source": [
        "labels=[0,1,2]"
      ],
      "metadata": {
        "id": "gGj28-c8GtGl"
      },
      "execution_count": null,
      "outputs": []
    },
    {
      "cell_type": "markdown",
      "source": [
        "# **Test-1**"
      ],
      "metadata": {
        "id": "qUa0XRiWH0Xf"
      }
    },
    {
      "cell_type": "code",
      "source": [
        "img_path ='/content/output_dataset/train/Biodegradable Images/TEST_BIODEG_HFL_10.jpeg'"
      ],
      "metadata": {
        "id": "Lo54bqqLHQUo"
      },
      "execution_count": null,
      "outputs": []
    },
    {
      "cell_type": "code",
      "source": [
        "import numpy as np\n",
        "img = load_img(img_path, target_size=(224, 224))\n",
        "x = img_to_array(img)\n",
        "x = preprocess_input(x)\n",
        "preds = vgg16.predict(np.array([x]))\n",
        "preds"
      ],
      "metadata": {
        "colab": {
          "base_uri": "https://localhost:8080/"
        },
        "id": "W-a8jI_7HdTX",
        "outputId": "eec121a2-be2f-4e2f-db0f-e284c123c174"
      },
      "execution_count": null,
      "outputs": [
        {
          "output_type": "stream",
          "name": "stdout",
          "text": [
            "1/1 [==============================] - 1s 1s/step\n"
          ]
        },
        {
          "output_type": "execute_result",
          "data": {
            "text/plain": [
              "array([[1., 0., 0.]], dtype=float32)"
            ]
          },
          "metadata": {},
          "execution_count": 40
        }
      ]
    },
    {
      "cell_type": "code",
      "source": [
        "labels[np.argmax(preds)]"
      ],
      "metadata": {
        "colab": {
          "base_uri": "https://localhost:8080/"
        },
        "id": "Dzt_y4MQHr-W",
        "outputId": "cc581ab2-23c4-405d-a8da-391b79dbb320"
      },
      "execution_count": null,
      "outputs": [
        {
          "output_type": "execute_result",
          "data": {
            "text/plain": [
              "0"
            ]
          },
          "metadata": {},
          "execution_count": 41
        }
      ]
    },
    {
      "cell_type": "markdown",
      "source": [
        "# **Test-2**"
      ],
      "metadata": {
        "id": "FF7-I5VoH5Y2"
      }
    },
    {
      "cell_type": "code",
      "source": [
        "img_path ='/content/output_dataset/test/Recyclable Images/cardboard134.jpeg'"
      ],
      "metadata": {
        "id": "E-xdKHLcHxet"
      },
      "execution_count": null,
      "outputs": []
    },
    {
      "cell_type": "code",
      "source": [
        "import numpy as np\n",
        "img = load_img(img_path, target_size=(224, 224))\n",
        "x = img_to_array(img)\n",
        "x = preprocess_input(x)\n",
        "preds = vgg16.predict(np.array([x]))\n",
        "preds"
      ],
      "metadata": {
        "colab": {
          "base_uri": "https://localhost:8080/"
        },
        "id": "eq8rtJQYICAk",
        "outputId": "08be05a6-495a-4b85-c727-806c845bac99"
      },
      "execution_count": null,
      "outputs": [
        {
          "output_type": "stream",
          "name": "stdout",
          "text": [
            "1/1 [==============================] - 1s 584ms/step\n"
          ]
        },
        {
          "output_type": "execute_result",
          "data": {
            "text/plain": [
              "array([[1.9529088e-21, 4.3498831e-17, 1.0000000e+00]], dtype=float32)"
            ]
          },
          "metadata": {},
          "execution_count": 43
        }
      ]
    },
    {
      "cell_type": "code",
      "source": [
        "labels[np.argmax(preds)]"
      ],
      "metadata": {
        "colab": {
          "base_uri": "https://localhost:8080/"
        },
        "id": "BlYFMa6CIE7f",
        "outputId": "eb1b1885-c6d3-474a-bcbd-324f8ebb3cf8"
      },
      "execution_count": null,
      "outputs": [
        {
          "output_type": "execute_result",
          "data": {
            "text/plain": [
              "2"
            ]
          },
          "metadata": {},
          "execution_count": 44
        }
      ]
    },
    {
      "cell_type": "markdown",
      "source": [
        "# **Test-3**"
      ],
      "metadata": {
        "id": "TNe0elWMIiZG"
      }
    },
    {
      "cell_type": "code",
      "source": [
        "img_path='/content/output_dataset/train/Trash Images/TRAIN.4_NBIODEG_CCW_1491.jpg'"
      ],
      "metadata": {
        "id": "tqvzYJrIIM8-"
      },
      "execution_count": null,
      "outputs": []
    },
    {
      "cell_type": "code",
      "source": [
        "import numpy as np\n",
        "img = load_img(img_path, target_size=(224, 224))\n",
        "x = img_to_array(img)\n",
        "x = preprocess_input(x)\n",
        "preds = vgg16.predict(np.array([x]))\n",
        "preds"
      ],
      "metadata": {
        "colab": {
          "base_uri": "https://localhost:8080/"
        },
        "id": "cJ3Rx6acIZNp",
        "outputId": "bc00105e-cd09-4540-a86a-72834ebbda33"
      },
      "execution_count": null,
      "outputs": [
        {
          "output_type": "stream",
          "name": "stdout",
          "text": [
            "1/1 [==============================] - 1s 532ms/step\n"
          ]
        },
        {
          "output_type": "execute_result",
          "data": {
            "text/plain": [
              "array([[4.3134577e-20, 1.0559779e-13, 1.0000000e+00]], dtype=float32)"
            ]
          },
          "metadata": {},
          "execution_count": 46
        }
      ]
    },
    {
      "cell_type": "code",
      "source": [
        "labels[np.argmax(preds)]"
      ],
      "metadata": {
        "colab": {
          "base_uri": "https://localhost:8080/"
        },
        "id": "2v-xLNNeIbj7",
        "outputId": "6ab696ea-5f3a-4910-fe86-95976c435acb"
      },
      "execution_count": null,
      "outputs": [
        {
          "output_type": "execute_result",
          "data": {
            "text/plain": [
              "2"
            ]
          },
          "metadata": {},
          "execution_count": 47
        }
      ]
    },
    {
      "cell_type": "markdown",
      "source": [
        "# **Test-4**"
      ],
      "metadata": {
        "id": "j9XT8mS2Iy3j"
      }
    },
    {
      "cell_type": "code",
      "source": [
        "img_path='/content/output_dataset/test/Biodegradable Images/TRAIN.2_BIODEG_ORI_10149.jpg'"
      ],
      "metadata": {
        "id": "sLc33CIeImWo"
      },
      "execution_count": null,
      "outputs": []
    },
    {
      "cell_type": "code",
      "source": [
        "import numpy as np\n",
        "img = load_img(img_path, target_size=(224, 224))\n",
        "x = img_to_array(img)\n",
        "x = preprocess_input(x)\n",
        "preds = vgg16.predict(np.array([x]))\n",
        "preds"
      ],
      "metadata": {
        "colab": {
          "base_uri": "https://localhost:8080/"
        },
        "id": "4wk3BVZmIs0u",
        "outputId": "65824ded-c66f-4636-d122-48b47ddf8349"
      },
      "execution_count": null,
      "outputs": [
        {
          "output_type": "stream",
          "name": "stdout",
          "text": [
            "1/1 [==============================] - 1s 985ms/step\n"
          ]
        },
        {
          "output_type": "execute_result",
          "data": {
            "text/plain": [
              "array([[1., 0., 0.]], dtype=float32)"
            ]
          },
          "metadata": {},
          "execution_count": 63
        }
      ]
    },
    {
      "cell_type": "code",
      "source": [
        "labels[np.argmax(preds)]"
      ],
      "metadata": {
        "colab": {
          "base_uri": "https://localhost:8080/"
        },
        "id": "XVTjxjVqIx3N",
        "outputId": "57ff4585-4639-4ac5-8016-876bc58b1230"
      },
      "execution_count": null,
      "outputs": [
        {
          "output_type": "execute_result",
          "data": {
            "text/plain": [
              "0"
            ]
          },
          "metadata": {},
          "execution_count": 64
        }
      ]
    },
    {
      "cell_type": "markdown",
      "source": [
        "# **Test-5**"
      ],
      "metadata": {
        "id": "ew3pj6SMJoQc"
      }
    },
    {
      "cell_type": "code",
      "source": [
        "img_path='/content/output_dataset/train/Recyclable Images/paper123.jpeg'"
      ],
      "metadata": {
        "id": "E9ix8hq_I7P9"
      },
      "execution_count": null,
      "outputs": []
    },
    {
      "cell_type": "code",
      "source": [
        "\n",
        "img = load_img(img_path, target_size=(224, 224))\n",
        "x = img_to_array(img)\n",
        "x = preprocess_input(x)\n",
        "preds = vgg16.predict(np.array([x]))\n",
        "preds"
      ],
      "metadata": {
        "colab": {
          "base_uri": "https://localhost:8080/"
        },
        "id": "KGl0iGzuJBlZ",
        "outputId": "6638153a-1430-4792-a7ca-58d1f68b7a8c"
      },
      "execution_count": null,
      "outputs": [
        {
          "output_type": "stream",
          "name": "stdout",
          "text": [
            "1/1 [==============================] - 1s 532ms/step\n"
          ]
        },
        {
          "output_type": "execute_result",
          "data": {
            "text/plain": [
              "array([[1.1714678e-28, 4.7260136e-14, 1.0000000e+00]], dtype=float32)"
            ]
          },
          "metadata": {},
          "execution_count": 52
        }
      ]
    },
    {
      "cell_type": "code",
      "source": [
        "labels[np.argmax(preds)]"
      ],
      "metadata": {
        "colab": {
          "base_uri": "https://localhost:8080/"
        },
        "id": "qkvXe6G5JFHw",
        "outputId": "83113728-2e3b-40dd-a369-cabfc575d677"
      },
      "execution_count": null,
      "outputs": [
        {
          "output_type": "execute_result",
          "data": {
            "text/plain": [
              "2"
            ]
          },
          "metadata": {},
          "execution_count": 53
        }
      ]
    },
    {
      "cell_type": "code",
      "source": [
        "vgg16.save('vgg16.h5')"
      ],
      "metadata": {
        "colab": {
          "base_uri": "https://localhost:8080/"
        },
        "id": "s15tuWggJyLU",
        "outputId": "a51b9b41-a104-4193-95ee-80ed24d1fb2f"
      },
      "execution_count": null,
      "outputs": [
        {
          "output_type": "stream",
          "name": "stderr",
          "text": [
            "/usr/local/lib/python3.10/dist-packages/keras/src/engine/training.py:3103: UserWarning: You are saving your model as an HDF5 file via `model.save()`. This file format is considered legacy. We recommend using instead the native Keras format, e.g. `model.save('my_model.keras')`.\n",
            "  saving_api.save_model(\n"
          ]
        }
      ]
    }
  ],
  "metadata": {
    "colab": {
      "provenance": []
    },
    "kernelspec": {
      "display_name": "Python 3",
      "name": "python3"
    },
    "language_info": {
      "name": "python"
    }
  },
  "nbformat": 4,
  "nbformat_minor": 0
}