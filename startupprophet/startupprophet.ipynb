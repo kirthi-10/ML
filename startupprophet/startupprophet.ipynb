{
 "cells": [
  {
   "cell_type": "code",
   "execution_count": 16,
   "id": "5b524327-1b44-44b7-8bcc-cbe168ff41e1",
   "metadata": {},
   "outputs": [],
   "source": [
    "import pandas as pd\n",
    "import numpy as np\n",
    "import seaborn as sns\n",
    "import matplotlib.pyplot as plt\n",
    "%matplotlib inline\n",
    "sns.set(style=\"whitegrid\")"
   ]
  },
  {
   "cell_type": "code",
   "execution_count": 17,
   "id": "65d51b80-2d9d-40a0-8a2a-a125a781705a",
   "metadata": {},
   "outputs": [],
   "source": [
    "df=pd.read_csv('C:\\sahas\\startup prophet.csv')"
   ]
  },
  {
   "cell_type": "code",
   "execution_count": 18,
   "id": "0874eb53-616c-4505-adb2-b0eba11d71ec",
   "metadata": {},
   "outputs": [
    {
     "data": {
      "text/html": [
       "<div>\n",
       "<style scoped>\n",
       "    .dataframe tbody tr th:only-of-type {\n",
       "        vertical-align: middle;\n",
       "    }\n",
       "\n",
       "    .dataframe tbody tr th {\n",
       "        vertical-align: top;\n",
       "    }\n",
       "\n",
       "    .dataframe thead th {\n",
       "        text-align: right;\n",
       "    }\n",
       "</style>\n",
       "<table border=\"1\" class=\"dataframe\">\n",
       "  <thead>\n",
       "    <tr style=\"text-align: right;\">\n",
       "      <th></th>\n",
       "      <th>Unnamed: 0</th>\n",
       "      <th>state_code</th>\n",
       "      <th>latitude</th>\n",
       "      <th>longitude</th>\n",
       "      <th>zip_code</th>\n",
       "      <th>id</th>\n",
       "      <th>city</th>\n",
       "      <th>Unnamed: 6</th>\n",
       "      <th>name</th>\n",
       "      <th>labels</th>\n",
       "      <th>...</th>\n",
       "      <th>object_id</th>\n",
       "      <th>has_VC</th>\n",
       "      <th>has_angel</th>\n",
       "      <th>has_roundA</th>\n",
       "      <th>has_roundB</th>\n",
       "      <th>has_roundC</th>\n",
       "      <th>has_roundD</th>\n",
       "      <th>avg_participants</th>\n",
       "      <th>is_top500</th>\n",
       "      <th>status</th>\n",
       "    </tr>\n",
       "  </thead>\n",
       "  <tbody>\n",
       "    <tr>\n",
       "      <th>0</th>\n",
       "      <td>1005</td>\n",
       "      <td>CA</td>\n",
       "      <td>42.358880</td>\n",
       "      <td>-71.056820</td>\n",
       "      <td>92101</td>\n",
       "      <td>c:6669</td>\n",
       "      <td>San Diego</td>\n",
       "      <td>NaN</td>\n",
       "      <td>Bandsintown</td>\n",
       "      <td>1</td>\n",
       "      <td>...</td>\n",
       "      <td>c:6669</td>\n",
       "      <td>0</td>\n",
       "      <td>1</td>\n",
       "      <td>0</td>\n",
       "      <td>0</td>\n",
       "      <td>0</td>\n",
       "      <td>0</td>\n",
       "      <td>1.0000</td>\n",
       "      <td>0</td>\n",
       "      <td>acquired</td>\n",
       "    </tr>\n",
       "    <tr>\n",
       "      <th>1</th>\n",
       "      <td>204</td>\n",
       "      <td>CA</td>\n",
       "      <td>37.238916</td>\n",
       "      <td>-121.973718</td>\n",
       "      <td>95032</td>\n",
       "      <td>c:16283</td>\n",
       "      <td>Los Gatos</td>\n",
       "      <td>NaN</td>\n",
       "      <td>TriCipher</td>\n",
       "      <td>1</td>\n",
       "      <td>...</td>\n",
       "      <td>c:16283</td>\n",
       "      <td>1</td>\n",
       "      <td>0</td>\n",
       "      <td>0</td>\n",
       "      <td>1</td>\n",
       "      <td>1</td>\n",
       "      <td>1</td>\n",
       "      <td>4.7500</td>\n",
       "      <td>1</td>\n",
       "      <td>acquired</td>\n",
       "    </tr>\n",
       "    <tr>\n",
       "      <th>2</th>\n",
       "      <td>1001</td>\n",
       "      <td>CA</td>\n",
       "      <td>32.901049</td>\n",
       "      <td>-117.192656</td>\n",
       "      <td>92121</td>\n",
       "      <td>c:65620</td>\n",
       "      <td>San Diego</td>\n",
       "      <td>San Diego CA 92121</td>\n",
       "      <td>Plixi</td>\n",
       "      <td>1</td>\n",
       "      <td>...</td>\n",
       "      <td>c:65620</td>\n",
       "      <td>0</td>\n",
       "      <td>0</td>\n",
       "      <td>1</td>\n",
       "      <td>0</td>\n",
       "      <td>0</td>\n",
       "      <td>0</td>\n",
       "      <td>4.0000</td>\n",
       "      <td>1</td>\n",
       "      <td>acquired</td>\n",
       "    </tr>\n",
       "    <tr>\n",
       "      <th>3</th>\n",
       "      <td>738</td>\n",
       "      <td>CA</td>\n",
       "      <td>37.320309</td>\n",
       "      <td>-122.050040</td>\n",
       "      <td>95014</td>\n",
       "      <td>c:42668</td>\n",
       "      <td>Cupertino</td>\n",
       "      <td>Cupertino CA 95014</td>\n",
       "      <td>Solidcore Systems</td>\n",
       "      <td>1</td>\n",
       "      <td>...</td>\n",
       "      <td>c:42668</td>\n",
       "      <td>0</td>\n",
       "      <td>0</td>\n",
       "      <td>0</td>\n",
       "      <td>1</td>\n",
       "      <td>1</td>\n",
       "      <td>1</td>\n",
       "      <td>3.3333</td>\n",
       "      <td>1</td>\n",
       "      <td>acquired</td>\n",
       "    </tr>\n",
       "    <tr>\n",
       "      <th>4</th>\n",
       "      <td>1002</td>\n",
       "      <td>CA</td>\n",
       "      <td>37.779281</td>\n",
       "      <td>-122.419236</td>\n",
       "      <td>94105</td>\n",
       "      <td>c:65806</td>\n",
       "      <td>San Francisco</td>\n",
       "      <td>San Francisco CA 94105</td>\n",
       "      <td>Inhale Digital</td>\n",
       "      <td>0</td>\n",
       "      <td>...</td>\n",
       "      <td>c:65806</td>\n",
       "      <td>1</td>\n",
       "      <td>1</td>\n",
       "      <td>0</td>\n",
       "      <td>0</td>\n",
       "      <td>0</td>\n",
       "      <td>0</td>\n",
       "      <td>1.0000</td>\n",
       "      <td>1</td>\n",
       "      <td>closed</td>\n",
       "    </tr>\n",
       "    <tr>\n",
       "      <th>...</th>\n",
       "      <td>...</td>\n",
       "      <td>...</td>\n",
       "      <td>...</td>\n",
       "      <td>...</td>\n",
       "      <td>...</td>\n",
       "      <td>...</td>\n",
       "      <td>...</td>\n",
       "      <td>...</td>\n",
       "      <td>...</td>\n",
       "      <td>...</td>\n",
       "      <td>...</td>\n",
       "      <td>...</td>\n",
       "      <td>...</td>\n",
       "      <td>...</td>\n",
       "      <td>...</td>\n",
       "      <td>...</td>\n",
       "      <td>...</td>\n",
       "      <td>...</td>\n",
       "      <td>...</td>\n",
       "      <td>...</td>\n",
       "      <td>...</td>\n",
       "    </tr>\n",
       "    <tr>\n",
       "      <th>918</th>\n",
       "      <td>352</td>\n",
       "      <td>CA</td>\n",
       "      <td>37.740594</td>\n",
       "      <td>-122.376471</td>\n",
       "      <td>94107</td>\n",
       "      <td>c:21343</td>\n",
       "      <td>San Francisco</td>\n",
       "      <td>NaN</td>\n",
       "      <td>CoTweet</td>\n",
       "      <td>1</td>\n",
       "      <td>...</td>\n",
       "      <td>c:21343</td>\n",
       "      <td>0</td>\n",
       "      <td>0</td>\n",
       "      <td>1</td>\n",
       "      <td>0</td>\n",
       "      <td>0</td>\n",
       "      <td>0</td>\n",
       "      <td>6.0000</td>\n",
       "      <td>1</td>\n",
       "      <td>acquired</td>\n",
       "    </tr>\n",
       "    <tr>\n",
       "      <th>919</th>\n",
       "      <td>721</td>\n",
       "      <td>MA</td>\n",
       "      <td>42.504817</td>\n",
       "      <td>-71.195611</td>\n",
       "      <td>1803</td>\n",
       "      <td>c:41747</td>\n",
       "      <td>Burlington</td>\n",
       "      <td>Burlington MA 1803</td>\n",
       "      <td>Reef Point Systems</td>\n",
       "      <td>0</td>\n",
       "      <td>...</td>\n",
       "      <td>c:41747</td>\n",
       "      <td>1</td>\n",
       "      <td>0</td>\n",
       "      <td>0</td>\n",
       "      <td>1</td>\n",
       "      <td>0</td>\n",
       "      <td>0</td>\n",
       "      <td>2.6667</td>\n",
       "      <td>1</td>\n",
       "      <td>closed</td>\n",
       "    </tr>\n",
       "    <tr>\n",
       "      <th>920</th>\n",
       "      <td>557</td>\n",
       "      <td>CA</td>\n",
       "      <td>37.408261</td>\n",
       "      <td>-122.015920</td>\n",
       "      <td>94089</td>\n",
       "      <td>c:31549</td>\n",
       "      <td>Sunnyvale</td>\n",
       "      <td>NaN</td>\n",
       "      <td>Paracor Medical</td>\n",
       "      <td>0</td>\n",
       "      <td>...</td>\n",
       "      <td>c:31549</td>\n",
       "      <td>0</td>\n",
       "      <td>0</td>\n",
       "      <td>0</td>\n",
       "      <td>0</td>\n",
       "      <td>0</td>\n",
       "      <td>1</td>\n",
       "      <td>8.0000</td>\n",
       "      <td>1</td>\n",
       "      <td>closed</td>\n",
       "    </tr>\n",
       "    <tr>\n",
       "      <th>921</th>\n",
       "      <td>589</td>\n",
       "      <td>CA</td>\n",
       "      <td>37.556732</td>\n",
       "      <td>-122.288378</td>\n",
       "      <td>94404</td>\n",
       "      <td>c:33198</td>\n",
       "      <td>San Francisco</td>\n",
       "      <td>NaN</td>\n",
       "      <td>Causata</td>\n",
       "      <td>1</td>\n",
       "      <td>...</td>\n",
       "      <td>c:33198</td>\n",
       "      <td>0</td>\n",
       "      <td>0</td>\n",
       "      <td>1</td>\n",
       "      <td>1</td>\n",
       "      <td>0</td>\n",
       "      <td>0</td>\n",
       "      <td>1.0000</td>\n",
       "      <td>1</td>\n",
       "      <td>acquired</td>\n",
       "    </tr>\n",
       "    <tr>\n",
       "      <th>922</th>\n",
       "      <td>462</td>\n",
       "      <td>CA</td>\n",
       "      <td>37.386778</td>\n",
       "      <td>-121.966277</td>\n",
       "      <td>95054</td>\n",
       "      <td>c:26702</td>\n",
       "      <td>Santa Clara</td>\n",
       "      <td>Santa Clara CA 95054</td>\n",
       "      <td>Asempra Technologies</td>\n",
       "      <td>1</td>\n",
       "      <td>...</td>\n",
       "      <td>c:26702</td>\n",
       "      <td>0</td>\n",
       "      <td>0</td>\n",
       "      <td>0</td>\n",
       "      <td>1</td>\n",
       "      <td>0</td>\n",
       "      <td>0</td>\n",
       "      <td>3.0000</td>\n",
       "      <td>1</td>\n",
       "      <td>acquired</td>\n",
       "    </tr>\n",
       "  </tbody>\n",
       "</table>\n",
       "<p>923 rows × 49 columns</p>\n",
       "</div>"
      ],
      "text/plain": [
       "     Unnamed: 0 state_code   latitude   longitude zip_code       id  \\\n",
       "0          1005         CA  42.358880  -71.056820    92101   c:6669   \n",
       "1           204         CA  37.238916 -121.973718    95032  c:16283   \n",
       "2          1001         CA  32.901049 -117.192656    92121  c:65620   \n",
       "3           738         CA  37.320309 -122.050040    95014  c:42668   \n",
       "4          1002         CA  37.779281 -122.419236    94105  c:65806   \n",
       "..          ...        ...        ...         ...      ...      ...   \n",
       "918         352         CA  37.740594 -122.376471    94107  c:21343   \n",
       "919         721         MA  42.504817  -71.195611     1803  c:41747   \n",
       "920         557         CA  37.408261 -122.015920    94089  c:31549   \n",
       "921         589         CA  37.556732 -122.288378    94404  c:33198   \n",
       "922         462         CA  37.386778 -121.966277    95054  c:26702   \n",
       "\n",
       "              city              Unnamed: 6                  name  labels  ...  \\\n",
       "0        San Diego                     NaN           Bandsintown       1  ...   \n",
       "1        Los Gatos                     NaN             TriCipher       1  ...   \n",
       "2        San Diego      San Diego CA 92121                 Plixi       1  ...   \n",
       "3        Cupertino      Cupertino CA 95014     Solidcore Systems       1  ...   \n",
       "4    San Francisco  San Francisco CA 94105        Inhale Digital       0  ...   \n",
       "..             ...                     ...                   ...     ...  ...   \n",
       "918  San Francisco                     NaN               CoTweet       1  ...   \n",
       "919     Burlington      Burlington MA 1803    Reef Point Systems       0  ...   \n",
       "920      Sunnyvale                     NaN       Paracor Medical       0  ...   \n",
       "921  San Francisco                     NaN               Causata       1  ...   \n",
       "922    Santa Clara    Santa Clara CA 95054  Asempra Technologies       1  ...   \n",
       "\n",
       "    object_id has_VC has_angel has_roundA  has_roundB  has_roundC  has_roundD  \\\n",
       "0      c:6669      0         1          0           0           0           0   \n",
       "1     c:16283      1         0          0           1           1           1   \n",
       "2     c:65620      0         0          1           0           0           0   \n",
       "3     c:42668      0         0          0           1           1           1   \n",
       "4     c:65806      1         1          0           0           0           0   \n",
       "..        ...    ...       ...        ...         ...         ...         ...   \n",
       "918   c:21343      0         0          1           0           0           0   \n",
       "919   c:41747      1         0          0           1           0           0   \n",
       "920   c:31549      0         0          0           0           0           1   \n",
       "921   c:33198      0         0          1           1           0           0   \n",
       "922   c:26702      0         0          0           1           0           0   \n",
       "\n",
       "     avg_participants  is_top500    status  \n",
       "0              1.0000          0  acquired  \n",
       "1              4.7500          1  acquired  \n",
       "2              4.0000          1  acquired  \n",
       "3              3.3333          1  acquired  \n",
       "4              1.0000          1    closed  \n",
       "..                ...        ...       ...  \n",
       "918            6.0000          1  acquired  \n",
       "919            2.6667          1    closed  \n",
       "920            8.0000          1    closed  \n",
       "921            1.0000          1  acquired  \n",
       "922            3.0000          1  acquired  \n",
       "\n",
       "[923 rows x 49 columns]"
      ]
     },
     "execution_count": 18,
     "metadata": {},
     "output_type": "execute_result"
    }
   ],
   "source": [
    "df"
   ]
  },
  {
   "cell_type": "code",
   "execution_count": 19,
   "id": "438177b4-4654-4589-887a-0a5bbadb178a",
   "metadata": {},
   "outputs": [
    {
     "name": "stderr",
     "output_type": "stream",
     "text": [
      "C:\\Users\\DELL\\AppData\\Local\\Temp\\ipykernel_20108\\2977564160.py:3: UserWarning: \n",
      "\n",
      "`distplot` is a deprecated function and will be removed in seaborn v0.14.0.\n",
      "\n",
      "Please adapt your code to use either `displot` (a figure-level function with\n",
      "similar flexibility) or `histplot` (an axes-level function for histograms).\n",
      "\n",
      "For a guide to updating your code to use the new functions, please see\n",
      "https://gist.github.com/mwaskom/de44147ed2974457ad6372750bbe5751\n",
      "\n",
      "  sns.distplot(df['relationships'],color='y')\n",
      "C:\\ProgramData\\anaconda3\\Lib\\site-packages\\seaborn\\_oldcore.py:1119: FutureWarning: use_inf_as_na option is deprecated and will be removed in a future version. Convert inf values to NaN before operating instead.\n",
      "  with pd.option_context('mode.use_inf_as_na', True):\n",
      "C:\\Users\\DELL\\AppData\\Local\\Temp\\ipykernel_20108\\2977564160.py:5: UserWarning: \n",
      "\n",
      "`distplot` is a deprecated function and will be removed in seaborn v0.14.0.\n",
      "\n",
      "Please adapt your code to use either `displot` (a figure-level function with\n",
      "similar flexibility) or `histplot` (an axes-level function for histograms).\n",
      "\n",
      "For a guide to updating your code to use the new functions, please see\n",
      "https://gist.github.com/mwaskom/de44147ed2974457ad6372750bbe5751\n",
      "\n",
      "  sns.distplot(df['funding_rounds'])\n",
      "C:\\ProgramData\\anaconda3\\Lib\\site-packages\\seaborn\\_oldcore.py:1119: FutureWarning: use_inf_as_na option is deprecated and will be removed in a future version. Convert inf values to NaN before operating instead.\n",
      "  with pd.option_context('mode.use_inf_as_na', True):\n"
     ]
    },
    {
     "data": {
      "image/png": "[encoded data removed]",
      "text/plain": [
       "<Figure size 1200x500 with 2 Axes>"
      ]
     },
     "metadata": {},
     "output_type": "display_data"
    }
   ],
   "source": [
    "plt.figure(figsize=(12,5))\n",
    "plt.subplot(131)\n",
    "sns.distplot(df['relationships'],color='y')\n",
    "plt.subplot(132)\n",
    "sns.distplot(df['funding_rounds'])\n",
    "plt.show()"
   ]
  },
  {
   "cell_type": "code",
   "execution_count": 20,
   "id": "18b2cb88-40e3-44f7-bd22-037d973de063",
   "metadata": {},
   "outputs": [
    {
     "data": {
      "text/plain": [
       "<Axes: xlabel='funding_rounds', ylabel='count'>"
      ]
     },
     "execution_count": 20,
     "metadata": {},
     "output_type": "execute_result"
    },
    {
     "data": {
      "image/png": "[encoded data removed]",
      "text/plain": [
       "<Figure size 640x480 with 1 Axes>"
      ]
     },
     "metadata": {},
     "output_type": "display_data"
    }
   ],
   "source": [
    "sns.countplot(x='funding_rounds',hue='status',data=df,palette='nipy_spectral',order=df.funding_rounds.value_counts().index)"
   ]
  },
  {
   "cell_type": "code",
   "execution_count": null,
   "id": "845f005f-612a-47bf-9cf9-dfe187c5e22d",
   "metadata": {},
   "outputs": [],
   "source": []
  },
  {
   "cell_type": "code",
   "execution_count": 21,
   "id": "92ef80a9-bf3b-45df-9c2b-d46075e67035",
   "metadata": {},
   "outputs": [
    {
     "data": {
      "text/plain": [
       "<Axes: xlabel='labels', ylabel='count'>"
      ]
     },
     "execution_count": 21,
     "metadata": {},
     "output_type": "execute_result"
    },
    {
     "data": {
      "image/png": "[encoded data removed]",
      "text/plain": [
       "<Figure size 640x480 with 1 Axes>"
      ]
     },
     "metadata": {},
     "output_type": "display_data"
    }
   ],
   "source": [
    "sns.countplot(x=df['labels'],palette='viridis')"
   ]
  },
  {
   "cell_type": "code",
   "execution_count": 22,
   "id": "ae753c3d-19d8-40e9-bfde-2902a6cf3edd",
   "metadata": {},
   "outputs": [
    {
     "name": "stdout",
     "output_type": "stream",
     "text": [
      "<class 'pandas.core.frame.DataFrame'>\n",
      "RangeIndex: 923 entries, 0 to 922\n",
      "Data columns (total 49 columns):\n",
      " #   Column                    Non-Null Count  Dtype  \n",
      "---  ------                    --------------  -----  \n",
      " 0   Unnamed: 0                923 non-null    int64  \n",
      " 1   state_code                923 non-null    object \n",
      " 2   latitude                  923 non-null    float64\n",
      " 3   longitude                 923 non-null    float64\n",
      " 4   zip_code                  923 non-null    object \n",
      " 5   id                        923 non-null    object \n",
      " 6   city                      923 non-null    object \n",
      " 7   Unnamed: 6                430 non-null    object \n",
      " 8   name                      923 non-null    object \n",
      " 9   labels                    923 non-null    int64  \n",
      " 10  founded_at                923 non-null    object \n",
      " 11  closed_at                 335 non-null    object \n",
      " 12  first_funding_at          923 non-null    object \n",
      " 13  last_funding_at           923 non-null    object \n",
      " 14  age_first_funding_year    923 non-null    float64\n",
      " 15  age_last_funding_year     923 non-null    float64\n",
      " 16  age_first_milestone_year  771 non-null    float64\n",
      " 17  age_last_milestone_year   771 non-null    float64\n",
      " 18  relationships             923 non-null    int64  \n",
      " 19  funding_rounds            923 non-null    int64  \n",
      " 20  funding_total_usd         923 non-null    int64  \n",
      " 21  milestones                923 non-null    int64  \n",
      " 22  state_code.1              922 non-null    object \n",
      " 23  is_CA                     923 non-null    int64  \n",
      " 24  is_NY                     923 non-null    int64  \n",
      " 25  is_MA                     923 non-null    int64  \n",
      " 26  is_TX                     923 non-null    int64  \n",
      " 27  is_otherstate             923 non-null    int64  \n",
      " 28  category_code             923 non-null    object \n",
      " 29  is_software               923 non-null    int64  \n",
      " 30  is_web                    923 non-null    int64  \n",
      " 31  is_mobile                 923 non-null    int64  \n",
      " 32  is_enterprise             923 non-null    int64  \n",
      " 33  is_advertising            923 non-null    int64  \n",
      " 34  is_gamesvideo             923 non-null    int64  \n",
      " 35  is_ecommerce              923 non-null    int64  \n",
      " 36  is_biotech                923 non-null    int64  \n",
      " 37  is_consulting             923 non-null    int64  \n",
      " 38  is_othercategory          923 non-null    int64  \n",
      " 39  object_id                 923 non-null    object \n",
      " 40  has_VC                    923 non-null    int64  \n",
      " 41  has_angel                 923 non-null    int64  \n",
      " 42  has_roundA                923 non-null    int64  \n",
      " 43  has_roundB                923 non-null    int64  \n",
      " 44  has_roundC                923 non-null    int64  \n",
      " 45  has_roundD                923 non-null    int64  \n",
      " 46  avg_participants          923 non-null    float64\n",
      " 47  is_top500                 923 non-null    int64  \n",
      " 48  status                    923 non-null    object \n",
      "dtypes: float64(7), int64(28), object(14)\n",
      "memory usage: 353.5+ KB\n"
     ]
    }
   ],
   "source": [
    "df.info()"
   ]
  },
  {
   "cell_type": "code",
   "execution_count": 23,
   "id": "532fe025-7496-4d6e-979d-2dad4fc4d750",
   "metadata": {},
   "outputs": [
    {
     "data": {
      "text/plain": [
       "<bound method NDFrame.describe of      Unnamed: 0 state_code   latitude   longitude zip_code       id  \\\n",
       "0          1005         CA  42.358880  -71.056820    92101   c:6669   \n",
       "1           204         CA  37.238916 -121.973718    95032  c:16283   \n",
       "2          1001         CA  32.901049 -117.192656    92121  c:65620   \n",
       "3           738         CA  37.320309 -122.050040    95014  c:42668   \n",
       "4          1002         CA  37.779281 -122.419236    94105  c:65806   \n",
       "..          ...        ...        ...         ...      ...      ...   \n",
       "918         352         CA  37.740594 -122.376471    94107  c:21343   \n",
       "919         721         MA  42.504817  -71.195611     1803  c:41747   \n",
       "920         557         CA  37.408261 -122.015920    94089  c:31549   \n",
       "921         589         CA  37.556732 -122.288378    94404  c:33198   \n",
       "922         462         CA  37.386778 -121.966277    95054  c:26702   \n",
       "\n",
       "              city              Unnamed: 6                  name  labels  ...  \\\n",
       "0        San Diego                     NaN           Bandsintown       1  ...   \n",
       "1        Los Gatos                     NaN             TriCipher       1  ...   \n",
       "2        San Diego      San Diego CA 92121                 Plixi       1  ...   \n",
       "3        Cupertino      Cupertino CA 95014     Solidcore Systems       1  ...   \n",
       "4    San Francisco  San Francisco CA 94105        Inhale Digital       0  ...   \n",
       "..             ...                     ...                   ...     ...  ...   \n",
       "918  San Francisco                     NaN               CoTweet       1  ...   \n",
       "919     Burlington      Burlington MA 1803    Reef Point Systems       0  ...   \n",
       "920      Sunnyvale                     NaN       Paracor Medical       0  ...   \n",
       "921  San Francisco                     NaN               Causata       1  ...   \n",
       "922    Santa Clara    Santa Clara CA 95054  Asempra Technologies       1  ...   \n",
       "\n",
       "    object_id has_VC has_angel has_roundA  has_roundB  has_roundC  has_roundD  \\\n",
       "0      c:6669      0         1          0           0           0           0   \n",
       "1     c:16283      1         0          0           1           1           1   \n",
       "2     c:65620      0         0          1           0           0           0   \n",
       "3     c:42668      0         0          0           1           1           1   \n",
       "4     c:65806      1         1          0           0           0           0   \n",
       "..        ...    ...       ...        ...         ...         ...         ...   \n",
       "918   c:21343      0         0          1           0           0           0   \n",
       "919   c:41747      1         0          0           1           0           0   \n",
       "920   c:31549      0         0          0           0           0           1   \n",
       "921   c:33198      0         0          1           1           0           0   \n",
       "922   c:26702      0         0          0           1           0           0   \n",
       "\n",
       "     avg_participants  is_top500    status  \n",
       "0              1.0000          0  acquired  \n",
       "1              4.7500          1  acquired  \n",
       "2              4.0000          1  acquired  \n",
       "3              3.3333          1  acquired  \n",
       "4              1.0000          1    closed  \n",
       "..                ...        ...       ...  \n",
       "918            6.0000          1  acquired  \n",
       "919            2.6667          1    closed  \n",
       "920            8.0000          1    closed  \n",
       "921            1.0000          1  acquired  \n",
       "922            3.0000          1  acquired  \n",
       "\n",
       "[923 rows x 49 columns]>"
      ]
     },
     "execution_count": 23,
     "metadata": {},
     "output_type": "execute_result"
    }
   ],
   "source": [
    "df.describe"
   ]
  },
  {
   "cell_type": "code",
   "execution_count": 24,
   "id": "c0c44171-56a6-4ffb-8739-444e04fa7c13",
   "metadata": {},
   "outputs": [
    {
     "data": {
      "text/plain": [
       "Unnamed: 0                    0\n",
       "state_code                    0\n",
       "latitude                      0\n",
       "longitude                     0\n",
       "zip_code                      0\n",
       "id                            0\n",
       "city                          0\n",
       "Unnamed: 6                  493\n",
       "name                          0\n",
       "labels                        0\n",
       "founded_at                    0\n",
       "closed_at                   588\n",
       "first_funding_at              0\n",
       "last_funding_at               0\n",
       "age_first_funding_year        0\n",
       "age_last_funding_year         0\n",
       "age_first_milestone_year    152\n",
       "age_last_milestone_year     152\n",
       "relationships                 0\n",
       "funding_rounds                0\n",
       "funding_total_usd             0\n",
       "milestones                    0\n",
       "state_code.1                  1\n",
       "is_CA                         0\n",
       "is_NY                         0\n",
       "is_MA                         0\n",
       "is_TX                         0\n",
       "is_otherstate                 0\n",
       "category_code                 0\n",
       "is_software                   0\n",
       "is_web                        0\n",
       "is_mobile                     0\n",
       "is_enterprise                 0\n",
       "is_advertising                0\n",
       "is_gamesvideo                 0\n",
       "is_ecommerce                  0\n",
       "is_biotech                    0\n",
       "is_consulting                 0\n",
       "is_othercategory              0\n",
       "object_id                     0\n",
       "has_VC                        0\n",
       "has_angel                     0\n",
       "has_roundA                    0\n",
       "has_roundB                    0\n",
       "has_roundC                    0\n",
       "has_roundD                    0\n",
       "avg_participants              0\n",
       "is_top500                     0\n",
       "status                        0\n",
       "dtype: int64"
      ]
     },
     "execution_count": 24,
     "metadata": {},
     "output_type": "execute_result"
    }
   ],
   "source": [
    "df.isnull().sum()"
   ]
  },
  {
   "cell_type": "code",
   "execution_count": 25,
   "id": "9547323f-c4fb-4a1e-8a23-e27b4264bca9",
   "metadata": {},
   "outputs": [
    {
     "data": {
      "text/plain": [
       "(923, 49)"
      ]
     },
     "execution_count": 25,
     "metadata": {},
     "output_type": "execute_result"
    }
   ],
   "source": [
    "df.shape"
   ]
  },
  {
   "cell_type": "code",
   "execution_count": 26,
   "id": "714dd009-34e5-4321-ad73-e88d7a17d521",
   "metadata": {},
   "outputs": [],
   "source": [
    "df=df.drop(columns=['Unnamed: 0', 'state_code', 'latitude', 'longitude', 'zip_code', 'id','city', 'Unnamed: 6', 'name',  'founded_at'])"
   ]
  },
  {
   "cell_type": "code",
   "execution_count": 27,
   "id": "31983763-4b04-4af5-9783-d635f8a56591",
   "metadata": {},
   "outputs": [],
   "source": [
    "df=df.drop(columns=['avg_participants','status','is_biotech', 'is_consulting',\n",
    "       'is_othercategory', 'object_id','category_code', 'is_software',\n",
    "       'is_web', 'is_mobile', 'is_enterprise', 'is_advertising',\n",
    "       'is_gamesvideo','state_code.1', 'is_CA', 'is_NY',\n",
    "       'is_MA', 'is_TX','funding_total_usd','closed_at',\n",
    "       'first_funding_at', 'last_funding_at', 'age_first_funding_year',\n",
    "       'age_last_funding_year', 'age_first_milestone_year',\n",
    "       'age_last_milestone_year'])"
   ]
  },
  {
   "cell_type": "code",
   "execution_count": 28,
   "id": "8f9080fc-e7b8-4d0d-9c51-a6dcb82b82df",
   "metadata": {},
   "outputs": [
    {
     "data": {
      "text/plain": [
       "(923, 13)"
      ]
     },
     "execution_count": 28,
     "metadata": {},
     "output_type": "execute_result"
    }
   ],
   "source": [
    "df.shape"
   ]
  },
  {
   "cell_type": "code",
   "execution_count": 29,
   "id": "7bc00902-feb8-4a18-b36e-a91809d6d8ba",
   "metadata": {},
   "outputs": [
    {
     "data": {
      "text/plain": [
       "labels            int64\n",
       "relationships     int64\n",
       "funding_rounds    int64\n",
       "milestones        int64\n",
       "is_otherstate     int64\n",
       "is_ecommerce      int64\n",
       "has_VC            int64\n",
       "has_angel         int64\n",
       "has_roundA        int64\n",
       "has_roundB        int64\n",
       "has_roundC        int64\n",
       "has_roundD        int64\n",
       "is_top500         int64\n",
       "dtype: object"
      ]
     },
     "execution_count": 29,
     "metadata": {},
     "output_type": "execute_result"
    }
   ],
   "source": [
    "df.dtypes"
   ]
  },
  {
   "cell_type": "code",
   "execution_count": 30,
   "id": "eb55c86b-9895-4c99-90b0-8815ca621086",
   "metadata": {},
   "outputs": [],
   "source": [
    "x=df.drop(columns=['labels'],axis=1)\n",
    "y=df['labels']"
   ]
  },
  {
   "cell_type": "code",
   "execution_count": 31,
   "id": "1ce60ec8-9b82-48c5-b76b-a24c25bb23ff",
   "metadata": {},
   "outputs": [
    {
     "data": {
      "text/plain": [
       "array([[-0.648696  ,  0.49566485,  0.87613768, ..., -0.55106471,\n",
       "        -0.3327311 , -2.06017431],\n",
       "       [ 0.17754099,  1.21500235, -0.6368185 , ...,  1.81466891,\n",
       "         3.00542987,  0.48539582],\n",
       "       [-0.37328367, -0.94301016,  0.11965959, ..., -0.55106471,\n",
       "        -0.3327311 ,  0.48539582],\n",
       "       ...,\n",
       "       [-0.37328367, -0.94301016, -0.6368185 , ..., -0.55106471,\n",
       "         3.00542987,  0.48539582],\n",
       "       [ 0.59065949, -0.22367266,  0.11965959, ..., -0.55106471,\n",
       "        -0.3327311 ,  0.48539582],\n",
       "       [-0.51098983, -0.94301016, -0.6368185 , ..., -0.55106471,\n",
       "        -0.3327311 ,  0.48539582]])"
      ]
     },
     "execution_count": 31,
     "metadata": {},
     "output_type": "execute_result"
    }
   ],
   "source": [
    "from sklearn.preprocessing import StandardScaler\n",
    "sc=StandardScaler()\n",
    "x=sc.fit_transform(x)\n",
    "x"
   ]
  },
  {
   "cell_type": "code",
   "execution_count": 32,
   "id": "b5bc1d56-484e-4376-ab27-8733dc437558",
   "metadata": {},
   "outputs": [],
   "source": [
    "x=pd.DataFrame(x)"
   ]
  },
  {
   "cell_type": "code",
   "execution_count": 33,
   "id": "055f3243-531c-46b6-a132-9124a82ef6a8",
   "metadata": {},
   "outputs": [],
   "source": [
    "from imblearn.over_sampling import SMOTE\n",
    "smote=SMOTE(sampling_strategy='auto',random_state=42)\n",
    "x_bal,y_bal=smote.fit_resample(x,y)"
   ]
  },
  {
   "cell_type": "code",
   "execution_count": 34,
   "id": "38c89ddd-1cf1-4e05-86ce-fc1d3cf76804",
   "metadata": {},
   "outputs": [],
   "source": [
    "from sklearn.model_selection import train_test_split\n",
    "x_train,x_test,y_train,y_test=train_test_split(x_bal,y_bal,test_size=0.3,random_state=42)"
   ]
  },
  {
   "cell_type": "code",
   "execution_count": 35,
   "id": "8bdf885a-4277-4335-af81-0f3f8c6946ef",
   "metadata": {},
   "outputs": [],
   "source": [
    "from sklearn.linear_model import LogisticRegression\n",
    "lr=LogisticRegression()\n",
    "lr.fit(x_bal,y_bal)\n",
    "y_pred=lr.predict(x_test)"
   ]
  },
  {
   "cell_type": "code",
   "execution_count": 36,
   "id": "7469abf9-f5ca-42f2-b413-a73096090ec5",
   "metadata": {},
   "outputs": [
    {
     "name": "stdout",
     "output_type": "stream",
     "text": [
      "[[136  34]\n",
      " [ 56 133]]\n",
      "              precision    recall  f1-score   support\n",
      "\n",
      "           0       0.71      0.80      0.75       170\n",
      "           1       0.80      0.70      0.75       189\n",
      "\n",
      "    accuracy                           0.75       359\n",
      "   macro avg       0.75      0.75      0.75       359\n",
      "weighted avg       0.75      0.75      0.75       359\n",
      "\n"
     ]
    }
   ],
   "source": [
    "from sklearn.metrics import confusion_matrix,accuracy_score,classification_report\n",
    "print(confusion_matrix(y_test,y_pred))\n",
    "print(classification_report(y_test,y_pred))"
   ]
  },
  {
   "cell_type": "code",
   "execution_count": 37,
   "id": "074957e3-946f-4d72-975e-54d165803c00",
   "metadata": {},
   "outputs": [
    {
     "name": "stdout",
     "output_type": "stream",
     "text": [
      "9.03601338445834\n"
     ]
    }
   ],
   "source": [
    "from sklearn.metrics import log_loss\n",
    "print(log_loss(y_test,y_pred))"
   ]
  },
  {
   "cell_type": "code",
   "execution_count": 38,
   "id": "15ebc368-30dd-482c-a1fb-986522dc408e",
   "metadata": {},
   "outputs": [],
   "source": [
    "from sklearn.svm import SVC\n",
    "svm=SVC(kernel='rbf',C=2.0,random_state=42)\n",
    "svm.fit(x_bal,y_bal)\n",
    "y_predict=svm.predict(x_test)"
   ]
  },
  {
   "cell_type": "code",
   "execution_count": 39,
   "id": "bdd8fbf5-6e36-4df8-be0a-5de1f286cca1",
   "metadata": {},
   "outputs": [
    {
     "name": "stdout",
     "output_type": "stream",
     "text": [
      "[[134  36]\n",
      " [ 29 160]]\n",
      "[[134  36]\n",
      " [ 29 160]]\n"
     ]
    }
   ],
   "source": [
    "print(confusion_matrix(y_test,y_predict))\n",
    "print(confusion_matrix(y_test,y_predict))"
   ]
  },
  {
   "cell_type": "code",
   "execution_count": 40,
   "id": "ec142b01-4b89-4e10-b4db-6aa9e9b94a80",
   "metadata": {},
   "outputs": [
    {
     "name": "stdout",
     "output_type": "stream",
     "text": [
      "[[165   8]\n",
      " [  5 181]]\n",
      "[[416  19]\n",
      " [ 11 389]]\n",
      "              precision    recall  f1-score   support\n",
      "\n",
      "           0       0.97      0.95      0.96       173\n",
      "           1       0.96      0.97      0.97       186\n",
      "\n",
      "    accuracy                           0.96       359\n",
      "   macro avg       0.96      0.96      0.96       359\n",
      "weighted avg       0.96      0.96      0.96       359\n",
      "\n",
      "              precision    recall  f1-score   support\n",
      "\n",
      "           0       0.97      0.96      0.97       435\n",
      "           1       0.95      0.97      0.96       400\n",
      "\n",
      "    accuracy                           0.96       835\n",
      "   macro avg       0.96      0.96      0.96       835\n",
      "weighted avg       0.96      0.96      0.96       835\n",
      "\n"
     ]
    }
   ],
   "source": [
    "from sklearn.ensemble import RandomForestClassifier\n",
    "rf=RandomForestClassifier()\n",
    "rf.fit(x_bal,y_bal)\n",
    "rftest=rf.predict(x_test)\n",
    "rftrain=rf.predict(x_train)\n",
    "print(confusion_matrix(rftest,y_test))\n",
    "print(confusion_matrix(rftrain,y_train))\n",
    "print(classification_report(rftest,y_test))\n",
    "print(classification_report(rftrain,y_train))"
   ]
  },
  {
   "cell_type": "code",
   "execution_count": 41,
   "id": "a53db12a-3f74-4ba6-b4bc-260d94b88658",
   "metadata": {},
   "outputs": [
    {
     "name": "stdout",
     "output_type": "stream",
     "text": [
      "1.305201933310649\n"
     ]
    }
   ],
   "source": [
    "from sklearn.metrics import log_loss\n",
    "print(log_loss(rftest,y_test))"
   ]
  },
  {
   "cell_type": "code",
   "execution_count": 42,
   "id": "7bb865d4-6e58-4c1c-bef5-6410e6ae2f1f",
   "metadata": {},
   "outputs": [
    {
     "data": {
      "text/html": [
       "<div>\n",
       "<style scoped>\n",
       "    .dataframe tbody tr th:only-of-type {\n",
       "        vertical-align: middle;\n",
       "    }\n",
       "\n",
       "    .dataframe tbody tr th {\n",
       "        vertical-align: top;\n",
       "    }\n",
       "\n",
       "    .dataframe thead th {\n",
       "        text-align: right;\n",
       "    }\n",
       "</style>\n",
       "<table border=\"1\" class=\"dataframe\">\n",
       "  <thead>\n",
       "    <tr style=\"text-align: right;\">\n",
       "      <th></th>\n",
       "      <th>labels</th>\n",
       "      <th>relationships</th>\n",
       "      <th>funding_rounds</th>\n",
       "      <th>milestones</th>\n",
       "      <th>is_otherstate</th>\n",
       "      <th>is_ecommerce</th>\n",
       "      <th>has_VC</th>\n",
       "      <th>has_angel</th>\n",
       "      <th>has_roundA</th>\n",
       "      <th>has_roundB</th>\n",
       "      <th>has_roundC</th>\n",
       "      <th>has_roundD</th>\n",
       "      <th>is_top500</th>\n",
       "    </tr>\n",
       "  </thead>\n",
       "  <tbody>\n",
       "    <tr>\n",
       "      <th>0</th>\n",
       "      <td>1</td>\n",
       "      <td>3</td>\n",
       "      <td>3</td>\n",
       "      <td>3</td>\n",
       "      <td>0</td>\n",
       "      <td>0</td>\n",
       "      <td>0</td>\n",
       "      <td>1</td>\n",
       "      <td>0</td>\n",
       "      <td>0</td>\n",
       "      <td>0</td>\n",
       "      <td>0</td>\n",
       "      <td>0</td>\n",
       "    </tr>\n",
       "    <tr>\n",
       "      <th>1</th>\n",
       "      <td>1</td>\n",
       "      <td>9</td>\n",
       "      <td>4</td>\n",
       "      <td>1</td>\n",
       "      <td>0</td>\n",
       "      <td>0</td>\n",
       "      <td>1</td>\n",
       "      <td>0</td>\n",
       "      <td>0</td>\n",
       "      <td>1</td>\n",
       "      <td>1</td>\n",
       "      <td>1</td>\n",
       "      <td>1</td>\n",
       "    </tr>\n",
       "    <tr>\n",
       "      <th>2</th>\n",
       "      <td>1</td>\n",
       "      <td>5</td>\n",
       "      <td>1</td>\n",
       "      <td>2</td>\n",
       "      <td>0</td>\n",
       "      <td>0</td>\n",
       "      <td>0</td>\n",
       "      <td>0</td>\n",
       "      <td>1</td>\n",
       "      <td>0</td>\n",
       "      <td>0</td>\n",
       "      <td>0</td>\n",
       "      <td>1</td>\n",
       "    </tr>\n",
       "    <tr>\n",
       "      <th>3</th>\n",
       "      <td>1</td>\n",
       "      <td>5</td>\n",
       "      <td>3</td>\n",
       "      <td>1</td>\n",
       "      <td>0</td>\n",
       "      <td>0</td>\n",
       "      <td>0</td>\n",
       "      <td>0</td>\n",
       "      <td>0</td>\n",
       "      <td>1</td>\n",
       "      <td>1</td>\n",
       "      <td>1</td>\n",
       "      <td>1</td>\n",
       "    </tr>\n",
       "    <tr>\n",
       "      <th>4</th>\n",
       "      <td>0</td>\n",
       "      <td>2</td>\n",
       "      <td>2</td>\n",
       "      <td>1</td>\n",
       "      <td>0</td>\n",
       "      <td>0</td>\n",
       "      <td>1</td>\n",
       "      <td>1</td>\n",
       "      <td>0</td>\n",
       "      <td>0</td>\n",
       "      <td>0</td>\n",
       "      <td>0</td>\n",
       "      <td>1</td>\n",
       "    </tr>\n",
       "  </tbody>\n",
       "</table>\n",
       "</div>"
      ],
      "text/plain": [
       "   labels  relationships  funding_rounds  milestones  is_otherstate  \\\n",
       "0       1              3               3           3              0   \n",
       "1       1              9               4           1              0   \n",
       "2       1              5               1           2              0   \n",
       "3       1              5               3           1              0   \n",
       "4       0              2               2           1              0   \n",
       "\n",
       "   is_ecommerce  has_VC  has_angel  has_roundA  has_roundB  has_roundC  \\\n",
       "0             0       0          1           0           0           0   \n",
       "1             0       1          0           0           1           1   \n",
       "2             0       0          0           1           0           0   \n",
       "3             0       0          0           0           1           1   \n",
       "4             0       1          1           0           0           0   \n",
       "\n",
       "   has_roundD  is_top500  \n",
       "0           0          0  \n",
       "1           1          1  \n",
       "2           0          1  \n",
       "3           1          1  \n",
       "4           0          1  "
      ]
     },
     "execution_count": 42,
     "metadata": {},
     "output_type": "execute_result"
    }
   ],
   "source": [
    "df.head()"
   ]
  },
  {
   "cell_type": "code",
   "execution_count": 43,
   "id": "14cabda8-c68d-457a-a1a6-187a3ce49e58",
   "metadata": {},
   "outputs": [
    {
     "data": {
      "text/plain": [
       "array([1], dtype=int64)"
      ]
     },
     "execution_count": 43,
     "metadata": {},
     "output_type": "execute_result"
    }
   ],
   "source": [
    "rf.predict([[3,3,3,0,0,0,1,0,0,0,0,0]])"
   ]
  },
  {
   "cell_type": "code",
   "execution_count": 44,
   "id": "e2d748f5-6dbc-475e-bd92-e3ac1f3c6393",
   "metadata": {},
   "outputs": [
    {
     "data": {
      "text/plain": [
       "array([1], dtype=int64)"
      ]
     },
     "execution_count": 44,
     "metadata": {},
     "output_type": "execute_result"
    }
   ],
   "source": [
    "rf.predict([[9,\t4,\t1\t,0,\t0,\t1,\t0,\t0,\t1,\t1,\t1,\t1]])"
   ]
  },
  {
   "cell_type": "code",
   "execution_count": 45,
   "id": "a9c3152a-2158-4363-98ba-71ee033425e9",
   "metadata": {},
   "outputs": [],
   "source": [
    "import pickle\n",
    "import warnings\n",
    "warnings.filterwarnings('ignore')"
   ]
  },
  {
   "cell_type": "code",
   "execution_count": 46,
   "id": "3980bd32-6591-487a-bffa-7aaf7c2de245",
   "metadata": {},
   "outputs": [],
   "source": [
    "pickle.dump(rf,open(\"Randf.pkl\",\"wb\"))"
   ]
  },
  {
   "cell_type": "code",
   "execution_count": 47,
   "id": "41c4b8e7-5cc1-4ae0-8ec8-b522e030eeb9",
   "metadata": {},
   "outputs": [],
   "source": [
    "df=df.astype(float)"
   ]
  },
  {
   "cell_type": "code",
   "execution_count": 48,
   "id": "76c91aab-5f84-4569-bf91-ef0a4accf076",
   "metadata": {},
   "outputs": [
    {
     "data": {
      "text/plain": [
       "labels            float64\n",
       "relationships     float64\n",
       "funding_rounds    float64\n",
       "milestones        float64\n",
       "is_otherstate     float64\n",
       "is_ecommerce      float64\n",
       "has_VC            float64\n",
       "has_angel         float64\n",
       "has_roundA        float64\n",
       "has_roundB        float64\n",
       "has_roundC        float64\n",
       "has_roundD        float64\n",
       "is_top500         float64\n",
       "dtype: object"
      ]
     },
     "execution_count": 48,
     "metadata": {},
     "output_type": "execute_result"
    }
   ],
   "source": [
    "df.dtypes"
   ]
  },
  {
   "cell_type": "code",
   "execution_count": 49,
   "id": "27963fe5-37d4-4d9f-8d03-96d49d8eaaeb",
   "metadata": {},
   "outputs": [],
   "source": [
    "df=df.astype(int)"
   ]
  },
  {
   "cell_type": "code",
   "execution_count": 50,
   "id": "b0e43cec-b595-4a25-814f-1766b5707514",
   "metadata": {},
   "outputs": [
    {
     "data": {
      "text/plain": [
       "labels            int32\n",
       "relationships     int32\n",
       "funding_rounds    int32\n",
       "milestones        int32\n",
       "is_otherstate     int32\n",
       "is_ecommerce      int32\n",
       "has_VC            int32\n",
       "has_angel         int32\n",
       "has_roundA        int32\n",
       "has_roundB        int32\n",
       "has_roundC        int32\n",
       "has_roundD        int32\n",
       "is_top500         int32\n",
       "dtype: object"
      ]
     },
     "execution_count": 50,
     "metadata": {},
     "output_type": "execute_result"
    }
   ],
   "source": [
    "df.dtypes"
   ]
  },
  {
   "cell_type": "code",
   "execution_count": null,
   "id": "e5da458f-e343-45e6-9064-bd251f3af239",
   "metadata": {},
   "outputs": [],
   "source": []
  }
 ],
 "metadata": {
  "kernelspec": {
   "display_name": "Python 3 (ipykernel)",
   "language": "python",
   "name": "python3"
  },
  "language_info": {
   "codemirror_mode": {
    "name": "ipython",
    "version": 3
   },
   "file_extension": ".py",
   "mimetype": "text/x-python",
   "name": "python",
   "nbconvert_exporter": "python",
   "pygments_lexer": "ipython3",
   "version": "3.11.7"
  }
 },
 "nbformat": 4,
 "nbformat_minor": 5
}
